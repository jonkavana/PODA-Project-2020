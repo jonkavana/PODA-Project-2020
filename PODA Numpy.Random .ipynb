{
 "cells": [
  {
   "cell_type": "markdown",
   "metadata": {},
   "source": [
    "## Programming for Data Analysis\n",
    "\n",
    "The purpose of this dicument is to perform a high level analysis of the Numpy.Random package. \n",
    "\n",
    "\n",
    "\n",
    "There will be multiple components tot his analysis. The headsings for this analysis, will be as follows. \n",
    "\n",
    "- Explain the overall purpose of the package\n",
    "- Explain the use of the simple random data function. \n",
    "- Explain the use of Permutations Funcitons. \n",
    "- Expain the use and purpose of at least five distributions functions. \n",
    "- Explain the use of seeds in generations pseudorandom numbers.\n"
   ]
  },
  {
   "cell_type": "markdown",
   "metadata": {},
   "source": [
    "### Numpy.Random\n",
    "\n",
    "At it's highest hierarchail structure, the numpy package is divided into two core parts, BitGenerators and Generators. \n",
    "We will be at first reviewing the Bitgenerator, via some sample code to demonstrate the packages capabilities.<br>\n",
    "<br>\n",
    "The principle purpose of the package is random number generation, as per [Numpy.org](https://numpy.org/doc/stable/reference/random/index.html?highlight=numpy%20random#quick-start)"
   ]
  },
  {
   "cell_type": "markdown",
   "metadata": {},
   "source": [
    "### BitGenerator\n",
    "\n",
    "As per the official documentation on the [numpy.org](https://numpy.org/doc/stable/reference/random/bit_generators/generated/numpy.random.BitGenerator.html#numpy.random.BitGenerator) the bit generator performs a very limited number of tasks within the numpy.random pakage.\n",
    "\n"
   ]
  },
  {
   "cell_type": "code",
   "execution_count": 77,
   "metadata": {},
   "outputs": [],
   "source": [
    "import numpy as np"
   ]
  },
  {
   "cell_type": "code",
   "execution_count": 78,
   "metadata": {},
   "outputs": [
    {
     "data": {
      "text/plain": [
       "numpy.random.bit_generator.BitGenerator"
      ]
     },
     "execution_count": 78,
     "metadata": {},
     "output_type": "execute_result"
    }
   ],
   "source": [
    "np.random.BitGenerator"
   ]
  },
  {
   "cell_type": "code",
   "execution_count": 79,
   "metadata": {},
   "outputs": [
    {
     "ename": "TypeError",
     "evalue": "descriptor 'random_raw' of 'numpy.random.bit_generator.BitGenerator' object needs an argument",
     "output_type": "error",
     "traceback": [
      "\u001b[1;31m---------------------------------------------------------------------------\u001b[0m",
      "\u001b[1;31mTypeError\u001b[0m                                 Traceback (most recent call last)",
      "\u001b[1;32m<ipython-input-79-5b4889f140c6>\u001b[0m in \u001b[0;36m<module>\u001b[1;34m\u001b[0m\n\u001b[1;32m----> 1\u001b[1;33m \u001b[0mnp\u001b[0m\u001b[1;33m.\u001b[0m\u001b[0mrandom\u001b[0m\u001b[1;33m.\u001b[0m\u001b[0mBitGenerator\u001b[0m\u001b[1;33m.\u001b[0m\u001b[0mrandom_raw\u001b[0m\u001b[1;33m(\u001b[0m\u001b[1;33m)\u001b[0m\u001b[1;33m\u001b[0m\u001b[1;33m\u001b[0m\u001b[0m\n\u001b[0m",
      "\u001b[1;31mTypeError\u001b[0m: descriptor 'random_raw' of 'numpy.random.bit_generator.BitGenerator' object needs an argument"
     ]
    }
   ],
   "source": [
    "np.random.BitGenerator.random_raw()"
   ]
  },
  {
   "cell_type": "markdown",
   "metadata": {},
   "source": [
    "This is the source for a bitgenerator test.\n",
    "Source [numpy.org](https://numpy.org/doc/stable/reference/random/bit_generators/generated/numpy.random.BitGenerator.random_raw.html#numpy.random.BitGenerator.random_raw) "
   ]
  },
  {
   "cell_type": "code",
   "execution_count": 80,
   "metadata": {},
   "outputs": [],
   "source": [
    "from numpy.random import default_rng"
   ]
  },
  {
   "cell_type": "code",
   "execution_count": 81,
   "metadata": {},
   "outputs": [
    {
     "data": {
      "text/plain": [
       "0.2508244581084461"
      ]
     },
     "execution_count": 81,
     "metadata": {},
     "output_type": "execute_result"
    }
   ],
   "source": [
    "rg = default_rng(12)\n",
    "rg.random()"
   ]
  },
  {
   "cell_type": "markdown",
   "metadata": {},
   "source": [
    "### Generator\n",
    "\n"
   ]
  },
  {
   "cell_type": "markdown",
   "metadata": {},
   "source": [
    "Following on from the bitgenerator, we have the generator, which is actually a container for the Bitgenerator"
   ]
  },
  {
   "cell_type": "markdown",
   "metadata": {
    "collapsed": true,
    "scrolled": true
   },
   "source": [
    "THERE NEEDS TO BE A BUG AUL SPEECH IN HERE ON THE RANDOM.DEFAULT.RNG()"
   ]
  },
  {
   "cell_type": "markdown",
   "metadata": {},
   "source": [
    "### Simple Random Data"
   ]
  },
  {
   "cell_type": "markdown",
   "metadata": {},
   "source": [
    "There are four core sections to this section of the package. They are:  \n",
    "\n",
    "- Integers\n",
    "- Random\n",
    "- Choice\n",
    "- Bytes\n",
    "\n",
    "These can be reviewed more extensively from [Numpy.org](https://numpy.org/doc/stable/reference/random/generator.html)"
   ]
  },
  {
   "cell_type": "code",
   "execution_count": 82,
   "metadata": {},
   "outputs": [],
   "source": [
    "rng = np.random.default_rng()"
   ]
  },
  {
   "cell_type": "markdown",
   "metadata": {},
   "source": [
    "We use the code in the text box above,  in order to best set ourselves up to test the code to follow. Whereby hte rng on the left hand side, stands for random number generator"
   ]
  },
  {
   "cell_type": "markdown",
   "metadata": {},
   "source": [
    "#### Integers \n",
    "\n",
    "Integers as a data type, being used within the numpy.random package. The same as a lot of other functions, the integer subsection of the random funcoint, is dependent on an understanding of its' parameters. i.e, what information we will place into the funciton in order to generate an output. "
   ]
  },
  {
   "cell_type": "code",
   "execution_count": 83,
   "metadata": {},
   "outputs": [
    {
     "data": {
      "text/plain": [
       "array([5, 2, 9, 4], dtype=int64)"
      ]
     },
     "execution_count": 83,
     "metadata": {},
     "output_type": "execute_result"
    }
   ],
   "source": [
    "rng.integers(0, 10, size=4)"
   ]
  },
  {
   "cell_type": "markdown",
   "metadata": {},
   "source": [
    "In the code above, we can see that there are three parameters, that have been passed into the funciton.\n",
    "Firstly, we have 'low' integer, this is the lowest starting point for what will be generated in the output. In this case it is 0. Next, we have the 'high' integer, which is exclusive. This means that the random numbers generated will not take, in this instance, 10, into the output. Lastly, we have the third parameter, Size. Size, in this context, relates to the number of random numbers to be generated in the ouput.\n",
    "\n",
    "For further examples of this case, please review the [Numpy.org](https://numpy.org/doc/stable/reference/random/generated/numpy.random.Generator.integers.html#numpy.random.Generator.integers) site."
   ]
  },
  {
   "cell_type": "markdown",
   "metadata": {},
   "source": [
    "#### Random\n",
    "\n",
    "As true as it was for Integers, we're dependent upon the parameters, in order to extract the return from the Random Subsection. In this instance, the random funciton will allow for floating points to be taken into consideration. Floating points can be reviewed via clicking ont he following link, should you require more informaiton on them, via [TechTerms](https://techterms.com/definition/floatingpoint#:~:text=As%20the%20name%20implies%2C%20floating,decimal%20places%20are%20called%20integers.). \n",
    "\n",
    "For further examples of this case, please review the [Numpy.org](https://numpy.org/doc/stable/reference/random/generated/numpy.random.Generator.random.html#numpy.random.Generator.random)"
   ]
  },
  {
   "cell_type": "code",
   "execution_count": 84,
   "metadata": {},
   "outputs": [
    {
     "data": {
      "text/plain": [
       "float"
      ]
     },
     "execution_count": 84,
     "metadata": {},
     "output_type": "execute_result"
    }
   ],
   "source": [
    "type(rng.random())"
   ]
  },
  {
   "cell_type": "code",
   "execution_count": 85,
   "metadata": {},
   "outputs": [
    {
     "data": {
      "text/plain": [
       "array([1.47772179, 2.4396616 , 0.16377078, 1.11955184, 1.39929515])"
      ]
     },
     "execution_count": 85,
     "metadata": {},
     "output_type": "execute_result"
    }
   ],
   "source": [
    "3 * rng.random((5,)) "
   ]
  },
  {
   "cell_type": "markdown",
   "metadata": {},
   "source": [
    "#### Choice\n",
    "\n",
    "Choice has been created with the understanding of creating a single item, or an array for an output. What differentiates it from previosu iterations ofthe package, is that we can code into the parameter an array, for its consideration. The package, however, will not taek in an integer of negative value.  \n",
    "\n",
    "For more information on the Choice subsection , please review the following link from [Numpy.org](https://numpy.org/doc/stable/reference/random/generated/numpy.random.Generator.choice.html#numpy.random.Generator.choice)"
   ]
  },
  {
   "cell_type": "code",
   "execution_count": 86,
   "metadata": {},
   "outputs": [
    {
     "data": {
      "text/plain": [
       "array([[5, 7, 4, 0, 2],\n",
       "       [6, 7, 4, 0, 3]], dtype=int64)"
      ]
     },
     "execution_count": 86,
     "metadata": {},
     "output_type": "execute_result"
    }
   ],
   "source": [
    "rng.choice(9, (2,5))"
   ]
  },
  {
   "cell_type": "markdown",
   "metadata": {},
   "source": [
    "In the example listed above, we have our integer value inserted in the code, in this it is 1. Within the second paramter, we have a list, of type int. This list will form the structure of the output. Working with the brackets, we have the number of arrays that will be generated, 2, in this case, as well as the number of number of numbers that will be randomly chosen within these arrays.\n",
    "\n",
    "We have also mentioned that we can take into the function, a string. If we create a list of data type string, as follows:"
   ]
  },
  {
   "cell_type": "code",
   "execution_count": 87,
   "metadata": {},
   "outputs": [],
   "source": [
    "Cars_Manu = ['Audi', 'Seat', 'VW']"
   ]
  },
  {
   "cell_type": "code",
   "execution_count": 88,
   "metadata": {},
   "outputs": [
    {
     "data": {
      "text/plain": [
       "array(['VW', 'Audi', 'Seat', 'Audi', 'Seat'], dtype='<U4')"
      ]
     },
     "execution_count": 88,
     "metadata": {},
     "output_type": "execute_result"
    }
   ],
   "source": [
    "rng.choice(Cars_Manu, 5)"
   ]
  },
  {
   "cell_type": "markdown",
   "metadata": {},
   "source": [
    "We can see from the array created above that there are multiple instances of the one manufactures name, as the size of the array exceeds the parameters in the variable Cars_Manu."
   ]
  },
  {
   "cell_type": "markdown",
   "metadata": {},
   "source": [
    "#### Bytes\n",
    "\n",
    "The last of the four subsections within the Simple Data funciton, bytes, is used to return just that, bytes. \n",
    "The parameter for this snippet of code is limited to one, and that is length of type integer. \n",
    "\n",
    "For more information on this subsection, please review the link via [numpy.org](https://numpy.org/doc/stable/reference/random/generated/numpy.random.Generator.bytes.html#numpy.random.Generator.bytes)\n"
   ]
  },
  {
   "cell_type": "code",
   "execution_count": 89,
   "metadata": {},
   "outputs": [
    {
     "data": {
      "text/plain": [
       "b'4\\xe171\\x1d\\xb4\\xba'"
      ]
     },
     "execution_count": 89,
     "metadata": {},
     "output_type": "execute_result"
    }
   ],
   "source": [
    "rng.bytes(7)"
   ]
  },
  {
   "cell_type": "markdown",
   "metadata": {},
   "source": [
    "This is string of length 7, as hard coded into the line."
   ]
  },
  {
   "cell_type": "markdown",
   "metadata": {},
   "source": [
    "### Permutations\n",
    "\n",
    "Within this segement of the package, we are going to be reviewing teo types of order that we can put an array through. \n",
    "They are:\n",
    "- Shuffle\n",
    "- Permutations\n",
    "\n",
    "To permute, simply means to change the order of something, as per [Merriam Webster](https://www.merriam-webster.com/dictionary/permutate#:~:text=%3A%20change%2C%20interchange%20especially%20%3A%20to%20arrange%20in%20a%20different%20order)"
   ]
  },
  {
   "cell_type": "markdown",
   "metadata": {},
   "source": [
    "#### Shuffle\n",
    "\n",
    "In order to shuffle a list of integers, we must set up our code to accept the integer, as follow.\n",
    "\n",
    "For more information on this, please review [Numpy.org](https://numpy.org/doc/stable/reference/random/generated/numpy.random.shuffle.html#numpy.random.shuffle)\n",
    "\n",
    "For further reading on the reshape function, please visit [here](https://numpy.org/doc/stable/reference/random/generated/numpy.random.Generator.shuffle.html#numpy.random.Generator.shuffle)."
   ]
  },
  {
   "cell_type": "code",
   "execution_count": 90,
   "metadata": {},
   "outputs": [],
   "source": [
    "Shuf = np.arange(20)"
   ]
  },
  {
   "cell_type": "code",
   "execution_count": 91,
   "metadata": {},
   "outputs": [],
   "source": [
    "np.random.shuffle(Shuf)"
   ]
  },
  {
   "cell_type": "code",
   "execution_count": 92,
   "metadata": {},
   "outputs": [
    {
     "data": {
      "text/plain": [
       "array([ 9, 11, 14,  6,  2, 18,  3, 19,  7,  0, 15, 16,  4, 12,  5,  8, 13,\n",
       "       10,  1, 17])"
      ]
     },
     "execution_count": 92,
     "metadata": {},
     "output_type": "execute_result"
    }
   ],
   "source": [
    "Shuf"
   ]
  },
  {
   "cell_type": "markdown",
   "metadata": {},
   "source": [
    "We can see from the array that has been returned from the codeblock, that there are 20 integers in the array. You will also see that there is no number 20 in this list, as the list has commenced from the number 0."
   ]
  },
  {
   "cell_type": "code",
   "execution_count": 93,
   "metadata": {
    "scrolled": true
   },
   "outputs": [
    {
     "data": {
      "text/plain": [
       "array([[12, 13, 14],\n",
       "       [ 3,  4,  5],\n",
       "       [ 0,  1,  2],\n",
       "       [ 6,  7,  8],\n",
       "       [ 9, 10, 11]])"
      ]
     },
     "execution_count": 93,
     "metadata": {},
     "output_type": "execute_result"
    }
   ],
   "source": [
    "Shuf = np.arange(15).reshape((5, 3))\n",
    "np.random.shuffle(Shuf)\n",
    "Shuf"
   ]
  },
  {
   "cell_type": "markdown",
   "metadata": {},
   "source": [
    "We can also add in the reshape funciton, so that we can create multiple arrays, based on the common denominators that comprise an integer. In the exmaple displayed above, we ahve shuffled through the 15 numbers and divided them into 5 seperate arrays, of 3 numbers each. This is only possible as 5 multiplied by 3 is equal to the number set out in the parameter."
   ]
  },
  {
   "cell_type": "markdown",
   "metadata": {},
   "source": [
    "#### Permutations\n",
    "\n",
    "Similar in its basis to shuffle, the permutations function will accept a integer as well as an array as a parameter. \n",
    "\n",
    "For more inforamtion on this topic, please review [Numpy.org](https://numpy.org/doc/stable/reference/random/generated/numpy.random.Generator.permutation.html#numpy.random.Generator.permutation)"
   ]
  },
  {
   "cell_type": "code",
   "execution_count": 94,
   "metadata": {},
   "outputs": [],
   "source": [
    "# If we take the basis for our analysis as: \n",
    "rng = np.random.default_rng()"
   ]
  },
  {
   "cell_type": "code",
   "execution_count": 95,
   "metadata": {},
   "outputs": [
    {
     "data": {
      "text/plain": [
       "array([1, 4, 5, 3, 6, 0, 2])"
      ]
     },
     "execution_count": 95,
     "metadata": {},
     "output_type": "execute_result"
    }
   ],
   "source": [
    "# and we try to run through a permutation of an integer, 7. \n",
    "rng.permutation(7) "
   ]
  },
  {
   "cell_type": "code",
   "execution_count": 96,
   "metadata": {},
   "outputs": [],
   "source": [
    "# we can also perform the permutation on an array [1, 2, 3, 4, 5, 6, 7]"
   ]
  },
  {
   "cell_type": "code",
   "execution_count": 97,
   "metadata": {},
   "outputs": [
    {
     "data": {
      "text/plain": [
       "array([7, 1, 5, 3, 2, 6, 4])"
      ]
     },
     "execution_count": 97,
     "metadata": {},
     "output_type": "execute_result"
    }
   ],
   "source": [
    "rng.permutation([1, 2, 3, 4, 5, 6, 7])"
   ]
  },
  {
   "cell_type": "markdown",
   "metadata": {},
   "source": [
    "### Distributions\n",
    "\n",
    "The objective of this exercise is to review at elast five different types of distribution.\n",
    "\n",
    "The five types of distribution that we are going to review are: \n",
    "\n",
    "- Binomial\n",
    "- Chi-Square\n",
    "- Standard T\n",
    "- Normal (Gaussian) Distribution\n",
    "- Zipf\n"
   ]
  },
  {
   "cell_type": "markdown",
   "metadata": {},
   "source": [
    "#### Binomial Distribution Overview\n",
    "\n",
    "For more information [Numpy.org](https://numpy.org/doc/stable/reference/random/generated/numpy.random.Generator.binomial.html#numpy.random.Generator.binomial)\n",
    "\n",
    "Binomial distributuion refers to an event where there are two outcomes from the event. The most common example of a binomial distribtion is the toss of a coin. We can set up our analysis as follows:"
   ]
  },
  {
   "cell_type": "code",
   "execution_count": null,
   "metadata": {},
   "outputs": [],
   "source": []
  },
  {
   "cell_type": "code",
   "execution_count": 98,
   "metadata": {},
   "outputs": [],
   "source": [
    "# number of trials\n",
    "n = 10"
   ]
  },
  {
   "cell_type": "code",
   "execution_count": 99,
   "metadata": {},
   "outputs": [],
   "source": [
    "# Probability of event occuring\n",
    "p = 0.5"
   ]
  },
  {
   "cell_type": "code",
   "execution_count": 100,
   "metadata": {},
   "outputs": [],
   "source": [
    "result = rng.binomial(n, p, 100)"
   ]
  },
  {
   "cell_type": "code",
   "execution_count": 101,
   "metadata": {},
   "outputs": [
    {
     "data": {
      "text/plain": [
       "array([3, 8, 6, 6, 4, 6, 4, 4, 3, 3, 3, 8, 8, 6, 6, 4, 8, 5, 5, 3, 4, 4,\n",
       "       4, 7, 8, 6, 7, 2, 4, 6, 6, 3, 8, 6, 5, 5, 3, 4, 7, 4, 6, 6, 4, 4,\n",
       "       3, 6, 5, 4, 5, 4, 4, 1, 3, 4, 4, 3, 3, 6, 5, 8, 7, 4, 6, 6, 6, 5,\n",
       "       3, 3, 2, 4, 5, 7, 3, 5, 7, 4, 4, 4, 6, 2, 3, 6, 5, 4, 4, 6, 8, 8,\n",
       "       8, 4, 5, 8, 4, 7, 6, 6, 4, 2, 2, 5], dtype=int64)"
      ]
     },
     "execution_count": 101,
     "metadata": {},
     "output_type": "execute_result"
    }
   ],
   "source": [
    "result"
   ]
  },
  {
   "cell_type": "code",
   "execution_count": 102,
   "metadata": {},
   "outputs": [],
   "source": [
    "# we can see fromt eh paramter above the number 100. This represents the number of times the trial occured. \n",
    "# That is, there were 10 tosses of a coin completed 100 times."
   ]
  },
  {
   "cell_type": "markdown",
   "metadata": {},
   "source": [
    "##### Plotting the data"
   ]
  },
  {
   "cell_type": "code",
   "execution_count": null,
   "metadata": {},
   "outputs": [],
   "source": []
  },
  {
   "cell_type": "code",
   "execution_count": null,
   "metadata": {},
   "outputs": [],
   "source": []
  },
  {
   "cell_type": "markdown",
   "metadata": {},
   "source": [
    "#### Chi-Square Distribution Overview\n",
    "\n",
    "This distribution test has been created in order to test teh degrees of freedom. Thse degrees of freedom are measured via the sum of squared standard deviates of the distribution. \n",
    "\n",
    "For more information on this, please review [OnlineStatbook](http://onlinestatbook.com/2/chi_square/distribution.html). The code in the block below was retrieved from: [numpy.Org](https://numpy.org/doc/stable/reference/random/generated/numpy.random.Generator.chisquare.html#numpy.random.Generator.chisquare)"
   ]
  },
  {
   "cell_type": "code",
   "execution_count": null,
   "metadata": {},
   "outputs": [],
   "source": []
  },
  {
   "cell_type": "code",
   "execution_count": 103,
   "metadata": {},
   "outputs": [
    {
     "data": {
      "text/plain": [
       "array([10.34075778, 13.75768415, 10.23697555, 11.9743307 ])"
      ]
     },
     "execution_count": 103,
     "metadata": {},
     "output_type": "execute_result"
    }
   ],
   "source": [
    "rng.chisquare(12,4)"
   ]
  },
  {
   "cell_type": "code",
   "execution_count": null,
   "metadata": {},
   "outputs": [],
   "source": []
  },
  {
   "cell_type": "markdown",
   "metadata": {},
   "source": [
    "##### Plotting the data"
   ]
  },
  {
   "cell_type": "code",
   "execution_count": null,
   "metadata": {},
   "outputs": [],
   "source": []
  },
  {
   "cell_type": "code",
   "execution_count": null,
   "metadata": {},
   "outputs": [],
   "source": []
  },
  {
   "cell_type": "markdown",
   "metadata": {},
   "source": [
    "##### Standard T \n",
    "\n",
    "Th Standard T sitribution devlops on in some ways from Ch-Square, in that it encompasses degrees of freedom. \n",
    "The T-Distribution, also refered to as the Student's T Distribution according to [Stat Trek](https://stattrek.com/probability-distributions/t-distribution.aspx). This distrubtiuon is briguht in when the sample isn't as large as would be expceted, whilst the variance is also unkonwn. \n",
    "\n",
    "Side Note: \"The derivation of the t-distribution was first published in 1908 by William Gosset while working for the Guinness Brewery in Dublin. Due to proprietary issues, he had to publish under a pseudonym, and so he used the name Student.\" as retrieved from [numpy.org](https://numpy.org/doc/stable/reference/random/generated/numpy.random.Generator.standard_t.html#numpy.random.Generator.standard_t) \n",
    "\n",
    "The t Score information can be retrieved from teh site [Numpy](https://numpy.org/doc/stable/reference/random/generated/numpy.random.Generator.standard_t.html#numpy.random.Generator.standard_t)"
   ]
  },
  {
   "cell_type": "code",
   "execution_count": 104,
   "metadata": {},
   "outputs": [],
   "source": [
    "Collection = np.array([123, 456, 789, 987, 654, 321])"
   ]
  },
  {
   "cell_type": "code",
   "execution_count": 105,
   "metadata": {},
   "outputs": [],
   "source": [
    "s = rng.standard_t(10, size=100000)\n",
    "\n",
    "# where 10 is the degrees of freedom"
   ]
  },
  {
   "cell_type": "code",
   "execution_count": 106,
   "metadata": {},
   "outputs": [
    {
     "data": {
      "text/plain": [
       "555.0"
      ]
     },
     "execution_count": 106,
     "metadata": {},
     "output_type": "execute_result"
    }
   ],
   "source": [
    "np.mean(Collection)"
   ]
  },
  {
   "cell_type": "code",
   "execution_count": 107,
   "metadata": {},
   "outputs": [
    {
     "data": {
      "text/plain": [
       "316.9738159533055"
      ]
     },
     "execution_count": 107,
     "metadata": {},
     "output_type": "execute_result"
    }
   ],
   "source": [
    "Collection.std(ddof=1)"
   ]
  },
  {
   "cell_type": "code",
   "execution_count": 108,
   "metadata": {},
   "outputs": [],
   "source": [
    "t = (np.mean(Collection)-7725)/(Collection.std(ddof=1)/np.sqrt(len(Collection)))"
   ]
  },
  {
   "cell_type": "markdown",
   "metadata": {},
   "source": [
    "#### Plotting The data"
   ]
  },
  {
   "cell_type": "code",
   "execution_count": null,
   "metadata": {},
   "outputs": [],
   "source": []
  },
  {
   "cell_type": "code",
   "execution_count": null,
   "metadata": {},
   "outputs": [],
   "source": []
  },
  {
   "cell_type": "markdown",
   "metadata": {},
   "source": [
    "#### Normal (Gaussian) Distrubtion\n",
    "\n",
    "The normal distrubtion is enacted when there is a need to observe a large array of information across a spectrum. These, when placed in a plot, are observed as a bell curve distribution. Such is ht eimportanc eof this bell curve distrubtion, to be viewed, we nbeed to ensure that we have access to the centre of the curve. i.e. Create a Mean and Standard Deviation.\n",
    "\n",
    "For more information on the normal distrubtion [numpy.org](https://numpy.org/doc/stable/reference/random/generated/numpy.random.Generator.normal.html#numpy.random.Generator.normal)"
   ]
  },
  {
   "cell_type": "code",
   "execution_count": 109,
   "metadata": {},
   "outputs": [],
   "source": [
    "a = 0\n",
    "\n",
    "# this can be our mean"
   ]
  },
  {
   "cell_type": "code",
   "execution_count": 110,
   "metadata": {},
   "outputs": [],
   "source": [
    "b = 0.2\n",
    "\n",
    "# this can be our standard deviation\n"
   ]
  },
  {
   "cell_type": "code",
   "execution_count": 111,
   "metadata": {},
   "outputs": [],
   "source": [
    "# Therefore\n",
    "\n",
    "c = rng.normal(a, b, 100)"
   ]
  },
  {
   "cell_type": "code",
   "execution_count": 112,
   "metadata": {},
   "outputs": [
    {
     "data": {
      "text/plain": [
       "0.008439651023392735"
      ]
     },
     "execution_count": 112,
     "metadata": {},
     "output_type": "execute_result"
    }
   ],
   "source": [
    "# Validate mean and the variance \n",
    "\n",
    "abs(a - np.mean(c))"
   ]
  },
  {
   "cell_type": "code",
   "execution_count": 113,
   "metadata": {
    "scrolled": true
   },
   "outputs": [
    {
     "data": {
      "text/plain": [
       "array([0.04023868, 0.03661337, 0.26587092, 0.09145312, 0.23980082,\n",
       "       0.34061311, 0.15150681, 0.299514  , 0.46373765, 0.39215186,\n",
       "       0.33860824, 0.37152274, 0.01104368, 0.12532113, 0.04196039,\n",
       "       0.26278249, 0.02812756, 0.19259017, 0.25271233, 0.34220633,\n",
       "       0.15792259, 0.26826898, 0.0618297 , 0.19302495, 0.21563857,\n",
       "       0.49150818, 0.29801981, 0.44873965, 0.34392456, 0.20338201,\n",
       "       0.22905616, 0.19982828, 0.30897241, 0.16301152, 0.01887219,\n",
       "       0.2056633 , 0.15673507, 0.13570042, 0.06511525, 0.19746168,\n",
       "       0.00220825, 0.34939948, 0.28688605, 0.38859421, 0.28987075,\n",
       "       0.51099678, 0.44489428, 0.12702291, 0.38102862, 0.05342206,\n",
       "       0.1754637 , 0.49199576, 0.22821534, 0.14075509, 0.19103776,\n",
       "       0.09720338, 0.1486317 , 0.38347047, 0.41048776, 0.45725755,\n",
       "       0.48255964, 0.23847119, 0.00687535, 0.46113921, 0.32477616,\n",
       "       0.32782978, 0.42312634, 0.21386775, 0.16837085, 0.47082255,\n",
       "       0.2303016 , 0.03134261, 0.78890669, 0.0305087 , 0.10365409,\n",
       "       0.2108625 , 0.25512925, 0.07417127, 0.01049907, 0.39092747,\n",
       "       0.19977614, 0.51660863, 0.07873836, 0.25727795, 0.14638414,\n",
       "       0.20333527, 0.10433638, 0.21615297, 0.28623557, 0.05973167,\n",
       "       0.16763137, 0.58638914, 0.15849921, 0.01907134, 0.19124793,\n",
       "       0.40893972, 0.10352828, 0.07486483, 0.04602151, 0.07090183])"
      ]
     },
     "execution_count": 113,
     "metadata": {},
     "output_type": "execute_result"
    }
   ],
   "source": [
    "abs(c - np.std(c, ddof = 1))"
   ]
  },
  {
   "cell_type": "markdown",
   "metadata": {},
   "source": [
    "#### Plotting the data"
   ]
  },
  {
   "cell_type": "code",
   "execution_count": null,
   "metadata": {},
   "outputs": [],
   "source": []
  },
  {
   "cell_type": "code",
   "execution_count": null,
   "metadata": {},
   "outputs": [],
   "source": []
  },
  {
   "cell_type": "markdown",
   "metadata": {},
   "source": [
    "#### Zipf Distribution\n",
    "\n",
    "The Zipf distribtion is based around the principles of Zipf's Law, whereby the law states that: The Frequebcy of an item is inversely proportional to its rank  in a frequency table. \n",
    "\n",
    "For more information on the Zipf Distribution, please review [numpy.org](https://numpy.org/doc/stable/reference/random/generated/numpy.random.Generator.zipf.html#numpy.random.Generator.zipf)"
   ]
  },
  {
   "cell_type": "code",
   "execution_count": 114,
   "metadata": {},
   "outputs": [],
   "source": [
    "d = 4"
   ]
  },
  {
   "cell_type": "code",
   "execution_count": 115,
   "metadata": {},
   "outputs": [
    {
     "ename": "ValueError",
     "evalue": "a <= 1 or a is NaN",
     "output_type": "error",
     "traceback": [
      "\u001b[1;31m---------------------------------------------------------------------------\u001b[0m",
      "\u001b[1;31mValueError\u001b[0m                                Traceback (most recent call last)",
      "\u001b[1;32m<ipython-input-115-3e9da3bbbb46>\u001b[0m in \u001b[0;36m<module>\u001b[1;34m\u001b[0m\n\u001b[1;32m----> 1\u001b[1;33m \u001b[0mZipf\u001b[0m \u001b[1;33m=\u001b[0m \u001b[0mrng\u001b[0m\u001b[1;33m.\u001b[0m\u001b[0mzipf\u001b[0m\u001b[1;33m(\u001b[0m\u001b[0ma\u001b[0m\u001b[1;33m,\u001b[0m \u001b[1;36m1000\u001b[0m\u001b[1;33m)\u001b[0m\u001b[1;33m\u001b[0m\u001b[1;33m\u001b[0m\u001b[0m\n\u001b[0m",
      "\u001b[1;32m_generator.pyx\u001b[0m in \u001b[0;36mnumpy.random._generator.Generator.zipf\u001b[1;34m()\u001b[0m\n",
      "\u001b[1;32m_common.pyx\u001b[0m in \u001b[0;36mnumpy.random._common.disc\u001b[1;34m()\u001b[0m\n",
      "\u001b[1;32m_common.pyx\u001b[0m in \u001b[0;36mnumpy.random._common.check_constraint\u001b[1;34m()\u001b[0m\n",
      "\u001b[1;31mValueError\u001b[0m: a <= 1 or a is NaN"
     ]
    }
   ],
   "source": [
    "Zipf = rng.zipf(a, 1000)"
   ]
  },
  {
   "cell_type": "markdown",
   "metadata": {},
   "source": [
    "#### Plotting the data     "
   ]
  },
  {
   "cell_type": "code",
   "execution_count": null,
   "metadata": {},
   "outputs": [],
   "source": []
  },
  {
   "cell_type": "code",
   "execution_count": null,
   "metadata": {},
   "outputs": [],
   "source": []
  },
  {
   "cell_type": "markdown",
   "metadata": {},
   "source": [
    "## Use of Seeds in generating pseudorandom numbers "
   ]
  },
  {
   "cell_type": "code",
   "execution_count": null,
   "metadata": {},
   "outputs": [],
   "source": []
  },
  {
   "cell_type": "code",
   "execution_count": null,
   "metadata": {},
   "outputs": [],
   "source": []
  },
  {
   "cell_type": "markdown",
   "metadata": {},
   "source": [
    "### Reference Material \n",
    "<br>\n",
    "\n",
    "Official Numpy site, November 2020\n",
    "\n",
    "https://numpy.org/doc/stable/reference/random/index.html?highlight=numpy%20random#module-numpy.random\n",
    "<br>\n",
    "Markdown Style Guide, November 2020\n",
    "\n",
    "https://www.markdownguide.org/basic-syntax/\n",
    "<br>\n",
    "Binomial Distribution \n",
    "\n",
    "https://www.datacamp.com/community/tutorials/probability-distributions-python\n",
    "<br>\n",
    "Explanantion of Tuple \n",
    "\n",
    "https://www.programiz.com/python-programming/tuple\n",
    "<br>\n",
    "Explanation of Chi-Square Rule\n",
    "\n",
    "http://onlinestatbook.com/2/chi_square/distribution.html\n",
    "<br>\n",
    "\n",
    "Explanation of Students T Distribution\n",
    "\n",
    "https://stattrek.com/probability-distributions/t-distribution.aspx\n",
    "<br>\n",
    "\n",
    "\n",
    " "
   ]
  },
  {
   "cell_type": "code",
   "execution_count": null,
   "metadata": {},
   "outputs": [],
   "source": []
  },
  {
   "cell_type": "code",
   "execution_count": null,
   "metadata": {},
   "outputs": [],
   "source": []
  },
  {
   "cell_type": "code",
   "execution_count": null,
   "metadata": {},
   "outputs": [],
   "source": []
  }
 ],
 "metadata": {
  "kernelspec": {
   "display_name": "Python 3",
   "language": "python",
   "name": "python3"
  },
  "language_info": {
   "codemirror_mode": {
    "name": "ipython",
    "version": 3
   },
   "file_extension": ".py",
   "mimetype": "text/x-python",
   "name": "python",
   "nbconvert_exporter": "python",
   "pygments_lexer": "ipython3",
   "version": "3.8.5"
  }
 },
 "nbformat": 4,
 "nbformat_minor": 4
}
