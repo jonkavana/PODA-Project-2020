{
 "cells": [
  {
   "cell_type": "markdown",
   "metadata": {},
   "source": [
    "# Programming for Data Analysis Assignment 2020\n",
    "\n",
    "The purpose of this document is to perform a high level analysis of the Numpy.Random package. \n",
    "\n",
    "There will be multiple components to this analysis, as detailed below, viewed through a prism of practical data analysis as well as graphics created to illustrate this data best. \n",
    "\n",
    "\n",
    "### Area for discussion\n",
    "\n",
    "- Explain the overall purpose of the packag\n",
    "- Explain the use of the simple random data function. \n",
    "- Explain the use of Permutations Funcitons. \n",
    "- Explain the use and purpose of at least five distributions functions. \n",
    "- Explain the use of seeds in generations pseudorandom numbers.\n",
    "\n",
    "\n",
    "While there is an extensive amount of information available, and a large amount of research conducted in this area, the primary area of investigation will be conducted on the official Numpy Documentation catalogue listed [here](https://numpy.org/doc/stable/reference/random/index.html)\n",
    "\n",
    "### Software Requirements\n",
    "\n",
    "There are a number of pieces of software that are required in order to run this analysis. These are: \n",
    "\n",
    "- Numpy\n",
    "- MatPlotLib\n",
    "- Jupyter Notebook\n",
    "\n",
    "\n",
    "### Structure of the Analysis\n",
    "\n",
    "#### Section 1 Overview of Numpy.Random\n",
    "- Structure of the package\n",
    "- State & Seeding\n",
    "\n",
    "#### Section 2 Review of Simple Random Data\n",
    "- Four Key Areas of Simple Random Data\n",
    "\n",
    "#### Section 3 Review of Permutations\n",
    "- Permutations and Shuffle\n",
    "\n",
    "#### Section 3 Leveraging Numpy.Random for Distrubtions\n",
    "- Deep dive into distributiuons and implementation of plotting\n",
    "\n",
    "#### Section 4 Conclusion\n",
    "- Recap on Sections 1-3\n",
    "\n",
    "#### Section 5 Bibliography\n",
    "- Reference Material"
   ]
  },
  {
   "cell_type": "markdown",
   "metadata": {},
   "source": [
    "### Section 1 Overview of Numpy.random\n",
    "\n",
    "#####  Structure of the Numpy.Random Package\n",
    "\n",
    "Within it's hierarchail structure, the numpy package is divided into two core parts, *BitGenerators* and *Generators*. \n",
    "We will be at first reviewing the Bitgenerator, via some sample code to demonstrate the packages capabilities.<br>\n",
    "<br>\n",
    "The principle purpose of the package is random number generation, as per [Numpy.org](https://numpy.org/doc/stable/reference/random/index.html?highlight=numpy%20random#quick-start). Numpy, as per the latest edition of the package, has been updated to include several upgrades in the package. Principle among these, is the introduction of the Permuted Congruential Generator 64 as the default pseudo random number generator. Otherwise known as PCG64, it supports the methods for how random number generation operates [Numpy.Org](https://numpy.org/doc/stable/reference/random/bit_generators/pcg64.html\\0)"
   ]
  },
  {
   "cell_type": "markdown",
   "metadata": {},
   "source": [
    "##### BitGenerator\n",
    "\n",
    "As per the official documentation on the [numpy.org](https://numpy.org/doc/stable/reference/random/bit_generators/generated/numpy.random.BitGenerator.html#numpy.random.BitGenerator) the bit generator performs a very limited number of tasks within the numpy.random pakage.\n",
    "\n",
    "NEED TO EXPLAIN THE TWO STREAMS OF A BIITGENERATOR, HOW IT SUES STATE AN SEEDING. "
   ]
  },
  {
   "cell_type": "code",
   "execution_count": 41,
   "metadata": {},
   "outputs": [],
   "source": [
    "import numpy as np"
   ]
  },
  {
   "cell_type": "code",
   "execution_count": 42,
   "metadata": {},
   "outputs": [
    {
     "data": {
      "text/plain": [
       "numpy.random.bit_generator.BitGenerator"
      ]
     },
     "execution_count": 42,
     "metadata": {},
     "output_type": "execute_result"
    }
   ],
   "source": [
    "np.random.BitGenerator"
   ]
  },
  {
   "cell_type": "code",
   "execution_count": 43,
   "metadata": {},
   "outputs": [
    {
     "ename": "TypeError",
     "evalue": "descriptor 'random_raw' of 'numpy.random.bit_generator.BitGenerator' object needs an argument",
     "output_type": "error",
     "traceback": [
      "\u001b[1;31m---------------------------------------------------------------------------\u001b[0m",
      "\u001b[1;31mTypeError\u001b[0m                                 Traceback (most recent call last)",
      "\u001b[1;32m<ipython-input-43-5b4889f140c6>\u001b[0m in \u001b[0;36m<module>\u001b[1;34m\u001b[0m\n\u001b[1;32m----> 1\u001b[1;33m \u001b[0mnp\u001b[0m\u001b[1;33m.\u001b[0m\u001b[0mrandom\u001b[0m\u001b[1;33m.\u001b[0m\u001b[0mBitGenerator\u001b[0m\u001b[1;33m.\u001b[0m\u001b[0mrandom_raw\u001b[0m\u001b[1;33m(\u001b[0m\u001b[1;33m)\u001b[0m\u001b[1;33m\u001b[0m\u001b[1;33m\u001b[0m\u001b[0m\n\u001b[0m",
      "\u001b[1;31mTypeError\u001b[0m: descriptor 'random_raw' of 'numpy.random.bit_generator.BitGenerator' object needs an argument"
     ]
    }
   ],
   "source": [
    "np.random.BitGenerator.random_raw()"
   ]
  },
  {
   "cell_type": "markdown",
   "metadata": {},
   "source": [
    "This is the source for a bitgenerator test.\n",
    "Source [numpy.org](https://numpy.org/doc/stable/reference/random/bit_generators/generated/numpy.random.BitGenerator.random_raw.html#numpy.random.BitGenerator.random_raw) "
   ]
  },
  {
   "cell_type": "code",
   "execution_count": 44,
   "metadata": {},
   "outputs": [],
   "source": [
    "from numpy.random import default_rng"
   ]
  },
  {
   "cell_type": "code",
   "execution_count": 45,
   "metadata": {},
   "outputs": [],
   "source": [
    "# what is it you're trying to prove here - give it a reason or get rid."
   ]
  },
  {
   "cell_type": "code",
   "execution_count": 46,
   "metadata": {},
   "outputs": [
    {
     "data": {
      "text/plain": [
       "0.2508244581084461"
      ]
     },
     "execution_count": 46,
     "metadata": {},
     "output_type": "execute_result"
    }
   ],
   "source": [
    "rg = default_rng(12)\n",
    "rg.random()"
   ]
  },
  {
   "cell_type": "markdown",
   "metadata": {},
   "source": [
    "##### Generator\n",
    "\n"
   ]
  },
  {
   "cell_type": "markdown",
   "metadata": {},
   "source": [
    "Following on from the bitgenerator, we have the generator, which is actually a container for the Bitgenerator"
   ]
  },
  {
   "cell_type": "markdown",
   "metadata": {
    "collapsed": true,
    "scrolled": true
   },
   "source": [
    "THERE NEEDS TO BE A BUG AUL SPEECH IN HERE ON THE RANDOM.DEFAULT.RNG()"
   ]
  },
  {
   "cell_type": "markdown",
   "metadata": {},
   "source": [
    "##### Use of Seeds in generating pseudorandom numbers "
   ]
  },
  {
   "cell_type": "markdown",
   "metadata": {},
   "source": [
    "Developing on from the information detailed out the outside in BitGenerator Section XX, we have the concept of seeding. In order to fully understadn the use of seeds in pseudorandom numbers, we must understand this concept first.\n",
    "\n",
    "As we have seen in the bitgenerator overview in section XX, there are a number of processes that the bitgenerator is reliant on in order for generators to in-turn allow for methods to be called for random number generation.\n",
    "\n",
    "With specifc relation to the use of seeds however, there is another level of detail that we must acknowledge."
   ]
  },
  {
   "cell_type": "markdown",
   "metadata": {},
   "source": [
    "### Section 2 Review of Simple Random Data\n",
    "#### Simple Random Data"
   ]
  },
  {
   "cell_type": "markdown",
   "metadata": {},
   "source": [
    "We have seen from the structured nature of this package, that there are a  number of interdependencies in order for it to run successfully. Next, as part of our analysis into the package, we have the area of simple random data. \n",
    "There are four core sections to this section of the package. They are:  \n",
    "\n",
    "- Integers\n",
    "- Random\n",
    "- Choice\n",
    "- Bytes\n",
    "\n",
    "Each section has it's own capabilities added to it to make it distinguishable from the last, as we will see in due course.\n",
    "\n",
    "These can be reviewed more extensively from [Numpy.org](https://numpy.org/doc/stable/reference/random/generator.html)"
   ]
  },
  {
   "cell_type": "code",
   "execution_count": 47,
   "metadata": {},
   "outputs": [],
   "source": [
    "rng = np.random.default_rng()"
   ]
  },
  {
   "cell_type": "markdown",
   "metadata": {},
   "source": [
    "We use the code in the text box above,  in order to best set ourselves up to test the code to follow. Whereby hte rng on the left hand side, stands for random number generator"
   ]
  },
  {
   "cell_type": "markdown",
   "metadata": {},
   "source": [
    "##### Integers \n",
    "\n",
    "Integers as a data type, being used within the numpy.random package. The same as a lot of other functions, the integer subsection of the random funcoint, is dependent on an understanding of its' parameters. i.e, what information we will place into the funciton in order to generate an output. "
   ]
  },
  {
   "cell_type": "code",
   "execution_count": 48,
   "metadata": {},
   "outputs": [
    {
     "data": {
      "text/plain": [
       "array([2, 6, 7, 9], dtype=int64)"
      ]
     },
     "execution_count": 48,
     "metadata": {},
     "output_type": "execute_result"
    }
   ],
   "source": [
    "rng.integers(0, 10, size=4)"
   ]
  },
  {
   "cell_type": "markdown",
   "metadata": {},
   "source": [
    "In the code above, we can see that there are three parameters, that have been passed into the funciton.\n",
    "Firstly, we have 'low' integer, this is the lowest starting point for what will be generated in the output. In this case it is 0. Next, we have the 'high' integer, which is exclusive. This means that the random numbers generated will not take, in this instance, 10, into the output. Lastly, we have the third parameter, Size. Size, in this context, relates to the number of random numbers to be generated in the ouput.\n",
    "\n",
    "For further examples of this case, please review the [Numpy.org](https://numpy.org/doc/stable/reference/random/generated/numpy.random.Generator.integers.html#numpy.random.Generator.integers) site."
   ]
  },
  {
   "cell_type": "markdown",
   "metadata": {},
   "source": [
    "##### Random\n",
    "\n",
    "As true as it was for Integers, we're dependent upon the parameters, in order to extract the return from the Random Subsection. In this instance, the random funciton will allow for floating points to be taken into consideration. Floating points can be reviewed via clicking ont he following link, should you require more informaiton on them, via [TechTerms](https://techterms.com/definition/floatingpoint#:~:text=As%20the%20name%20implies%2C%20floating,decimal%20places%20are%20called%20integers.). \n",
    "\n",
    "For further examples of this case, please review the [Numpy.org](https://numpy.org/doc/stable/reference/random/generated/numpy.random.Generator.random.html#numpy.random.Generator.random)"
   ]
  },
  {
   "cell_type": "code",
   "execution_count": 49,
   "metadata": {},
   "outputs": [
    {
     "data": {
      "text/plain": [
       "float"
      ]
     },
     "execution_count": 49,
     "metadata": {},
     "output_type": "execute_result"
    }
   ],
   "source": [
    "type(rng.random())"
   ]
  },
  {
   "cell_type": "code",
   "execution_count": 50,
   "metadata": {},
   "outputs": [
    {
     "data": {
      "text/plain": [
       "array([0.32050506, 2.44594021, 1.90552213, 2.42724724, 2.50056792])"
      ]
     },
     "execution_count": 50,
     "metadata": {},
     "output_type": "execute_result"
    }
   ],
   "source": [
    "3 * rng.random((5,)) "
   ]
  },
  {
   "cell_type": "markdown",
   "metadata": {},
   "source": [
    "##### Choice\n",
    "\n",
    "Choice has been created with the understanding of creating a single item, or an array for an output. What differentiates it from previosu iterations ofthe package, is that we can code into the parameter an array, for its consideration. The package, however, will not taek in an integer of negative value.  \n",
    "\n",
    "For more information on the Choice subsection , please review the following link from [Numpy.org](https://numpy.org/doc/stable/reference/random/generated/numpy.random.Generator.choice.html#numpy.random.Generator.choice)"
   ]
  },
  {
   "cell_type": "code",
   "execution_count": 51,
   "metadata": {},
   "outputs": [
    {
     "data": {
      "text/plain": [
       "array([[0, 6, 6, 6, 0],\n",
       "       [2, 5, 2, 6, 3]], dtype=int64)"
      ]
     },
     "execution_count": 51,
     "metadata": {},
     "output_type": "execute_result"
    }
   ],
   "source": [
    "rng.choice(9, (2,5))"
   ]
  },
  {
   "cell_type": "markdown",
   "metadata": {},
   "source": [
    "In the example listed above, we have our integer value inserted in the code, in this it is 1. Within the second paramter, we have a list, of type int. This list will form the structure of the output. Working with the brackets, we have the number of arrays that will be generated, 2, in this case, as well as the number of number of numbers that will be randomly chosen within these arrays.\n",
    "\n",
    "We have also mentioned that we can take into the function, a string. If we create a list of data type string, as follows:"
   ]
  },
  {
   "cell_type": "code",
   "execution_count": 52,
   "metadata": {},
   "outputs": [],
   "source": [
    "Cars_Manu = ['Audi', 'Seat', 'VW']"
   ]
  },
  {
   "cell_type": "code",
   "execution_count": 53,
   "metadata": {},
   "outputs": [
    {
     "data": {
      "text/plain": [
       "array(['Seat', 'Audi', 'Audi', 'VW', 'Audi'], dtype='<U4')"
      ]
     },
     "execution_count": 53,
     "metadata": {},
     "output_type": "execute_result"
    }
   ],
   "source": [
    "rng.choice(Cars_Manu, 5)"
   ]
  },
  {
   "cell_type": "markdown",
   "metadata": {},
   "source": [
    "We can see from the array created above that there are multiple instances of the one manufactures name, as the size of the array exceeds the parameters in the variable Cars_Manu."
   ]
  },
  {
   "cell_type": "markdown",
   "metadata": {},
   "source": [
    "##### Bytes\n",
    "\n",
    "The last of the four subsections within the Simple Data funciton, bytes, is used to return just that, bytes. \n",
    "The parameter for this snippet of code is limited to one, and that is length of type integer. \n",
    "\n",
    "For more information on this subsection, please review the link via [numpy.org](https://numpy.org/doc/stable/reference/random/generated/numpy.random.Generator.bytes.html#numpy.random.Generator.bytes)\n"
   ]
  },
  {
   "cell_type": "code",
   "execution_count": 54,
   "metadata": {},
   "outputs": [
    {
     "data": {
      "text/plain": [
       "b'z\\xe3\\xdf&\\xbb\\\\A'"
      ]
     },
     "execution_count": 54,
     "metadata": {},
     "output_type": "execute_result"
    }
   ],
   "source": [
    "rng.bytes(7)"
   ]
  },
  {
   "cell_type": "markdown",
   "metadata": {},
   "source": [
    "This is string of length 7, as hard coded into the line."
   ]
  },
  {
   "cell_type": "markdown",
   "metadata": {},
   "source": [
    "### Section 3 Review of Permutations\n",
    "\n",
    "\n",
    "\n",
    "Within this segement of the package, we are going to be reviewing teo types of order that we can put an array through. \n",
    "They are:\n",
    "- Shuffle\n",
    "- Permutations\n",
    "\n",
    "To permute, simply means to change the order of something, as per [Merriam Webster](https://www.merriam-webster.com/dictionary/permutate#:~:text=%3A%20change%2C%20interchange%20especially%20%3A%20to%20arrange%20in%20a%20different%20order)"
   ]
  },
  {
   "cell_type": "markdown",
   "metadata": {},
   "source": [
    "##### Shuffle\n",
    "\n",
    "In order to shuffle a list of integers, we must set up our code to accept the integer, as follow.\n",
    "\n",
    "For more information on this, please review [Numpy.org](https://numpy.org/doc/stable/reference/random/generated/numpy.random.shuffle.html#numpy.random.shuffle)\n",
    "\n",
    "For further reading on the reshape function, please visit [here](https://numpy.org/doc/stable/reference/random/generated/numpy.random.Generator.shuffle.html#numpy.random.Generator.shuffle)."
   ]
  },
  {
   "cell_type": "code",
   "execution_count": 55,
   "metadata": {},
   "outputs": [],
   "source": [
    "Shuf = np.arange(20)"
   ]
  },
  {
   "cell_type": "code",
   "execution_count": 56,
   "metadata": {},
   "outputs": [],
   "source": [
    "np.random.shuffle(Shuf)"
   ]
  },
  {
   "cell_type": "code",
   "execution_count": 57,
   "metadata": {},
   "outputs": [
    {
     "data": {
      "text/plain": [
       "array([12, 14, 15,  9,  8,  1, 18,  3,  6,  0, 17, 13,  4,  2,  7, 19, 10,\n",
       "       11,  5, 16])"
      ]
     },
     "execution_count": 57,
     "metadata": {},
     "output_type": "execute_result"
    }
   ],
   "source": [
    "Shuf"
   ]
  },
  {
   "cell_type": "markdown",
   "metadata": {},
   "source": [
    "We can see from the array that has been returned from the codeblock, that there are 20 integers in the array. You will also see that there is no number 20 in this list, as the list has commenced from the number 0."
   ]
  },
  {
   "cell_type": "code",
   "execution_count": 58,
   "metadata": {
    "scrolled": true
   },
   "outputs": [
    {
     "data": {
      "text/plain": [
       "array([[ 0,  1,  2],\n",
       "       [ 9, 10, 11],\n",
       "       [12, 13, 14],\n",
       "       [ 6,  7,  8],\n",
       "       [ 3,  4,  5]])"
      ]
     },
     "execution_count": 58,
     "metadata": {},
     "output_type": "execute_result"
    }
   ],
   "source": [
    "Shuf = np.arange(15).reshape((5, 3))\n",
    "np.random.shuffle(Shuf)\n",
    "Shuf"
   ]
  },
  {
   "cell_type": "markdown",
   "metadata": {},
   "source": [
    "We can also add in the reshape funciton, so that we can create multiple arrays, based on the common denominators that comprise an integer. In the exmaple displayed above, we ahve shuffled through the 15 numbers and divided them into 5 seperate arrays, of 3 numbers each. This is only possible as 5 multiplied by 3 is equal to the number set out in the parameter."
   ]
  },
  {
   "cell_type": "markdown",
   "metadata": {},
   "source": [
    "##### Permutations\n",
    "\n",
    "Similar in its basis to shuffle, the permutations function will accept a integer as well as an array as a parameter. \n",
    "\n",
    "For more inforamtion on this topic, please review [Numpy.org](https://numpy.org/doc/stable/reference/random/generated/numpy.random.Generator.permutation.html#numpy.random.Generator.permutation)"
   ]
  },
  {
   "cell_type": "code",
   "execution_count": 59,
   "metadata": {},
   "outputs": [],
   "source": [
    "# If we take the basis for our analysis as: \n",
    "rng = np.random.default_rng()"
   ]
  },
  {
   "cell_type": "code",
   "execution_count": 60,
   "metadata": {},
   "outputs": [
    {
     "data": {
      "text/plain": [
       "array([2, 4, 0, 6, 3, 5, 1])"
      ]
     },
     "execution_count": 60,
     "metadata": {},
     "output_type": "execute_result"
    }
   ],
   "source": [
    "# and we try to run through a permutation of an integer, 7. \n",
    "rng.permutation(7) "
   ]
  },
  {
   "cell_type": "code",
   "execution_count": 61,
   "metadata": {},
   "outputs": [],
   "source": [
    "# we can also perform the permutation on an array [1, 2, 3, 4, 5, 6, 7]"
   ]
  },
  {
   "cell_type": "code",
   "execution_count": 62,
   "metadata": {},
   "outputs": [
    {
     "data": {
      "text/plain": [
       "array([2, 3, 1, 7, 6, 4, 5])"
      ]
     },
     "execution_count": 62,
     "metadata": {},
     "output_type": "execute_result"
    }
   ],
   "source": [
    "rng.permutation([1, 2, 3, 4, 5, 6, 7])"
   ]
  },
  {
   "cell_type": "markdown",
   "metadata": {},
   "source": [
    "### Section 4 Leveraging Numpy.Random for Distrubtions\n",
    "\n",
    "The objective of this exercise is to review at elast five different types of distribution.\n",
    "\n",
    "The five types of distribution that we are going to review are: \n",
    "\n",
    "- Binomial\n",
    "- Chi-Square\n",
    "- Standard T\n",
    "- Normal (Gaussian) Distribution\n",
    "- Zipf\n"
   ]
  },
  {
   "cell_type": "markdown",
   "metadata": {},
   "source": [
    "##### Binomial Distribution Overview\n",
    "\n",
    "For more information [Numpy.org](https://numpy.org/doc/stable/reference/random/generated/numpy.random.Generator.binomial.html#numpy.random.Generator.binomial)\n",
    "\n",
    "Binomial distributuion refers to an event where there are two outcomes from the event. The most common example of a binomial distribtion is the toss of a coin. We can set up our analysis as follows:"
   ]
  },
  {
   "cell_type": "code",
   "execution_count": 63,
   "metadata": {},
   "outputs": [],
   "source": [
    "# number of trials\n",
    "n = 10"
   ]
  },
  {
   "cell_type": "code",
   "execution_count": 64,
   "metadata": {},
   "outputs": [],
   "source": [
    "# Probability of event occuring\n",
    "p = 0.5"
   ]
  },
  {
   "cell_type": "code",
   "execution_count": 65,
   "metadata": {},
   "outputs": [],
   "source": [
    "result = rng.binomial(n, p, 100)"
   ]
  },
  {
   "cell_type": "code",
   "execution_count": 66,
   "metadata": {},
   "outputs": [
    {
     "data": {
      "text/plain": [
       "array([6, 6, 5, 2, 7, 6, 4, 6, 5, 8, 4, 6, 5, 3, 5, 3, 5, 5, 4, 5, 7, 6,\n",
       "       5, 7, 3, 5, 7, 3, 5, 6, 6, 6, 4, 3, 4, 5, 4, 4, 7, 5, 7, 5, 4, 4,\n",
       "       6, 4, 6, 4, 3, 4, 6, 3, 6, 4, 8, 4, 6, 4, 7, 4, 3, 4, 2, 5, 6, 2,\n",
       "       4, 5, 3, 6, 6, 6, 2, 8, 5, 7, 6, 7, 4, 4, 5, 5, 4, 6, 3, 7, 8, 3,\n",
       "       4, 6, 2, 6, 6, 4, 5, 5, 4, 1, 8, 6], dtype=int64)"
      ]
     },
     "execution_count": 66,
     "metadata": {},
     "output_type": "execute_result"
    }
   ],
   "source": [
    "result"
   ]
  },
  {
   "cell_type": "code",
   "execution_count": 67,
   "metadata": {},
   "outputs": [],
   "source": [
    "# we can see fromt eh paramter above the number 100. This represents the number of times the trial occured. \n",
    "# That is, there were 10 tosses of a coin completed 100 times."
   ]
  },
  {
   "cell_type": "markdown",
   "metadata": {},
   "source": [
    "##### Plotting the data"
   ]
  },
  {
   "cell_type": "code",
   "execution_count": null,
   "metadata": {},
   "outputs": [],
   "source": []
  },
  {
   "cell_type": "code",
   "execution_count": null,
   "metadata": {},
   "outputs": [],
   "source": []
  },
  {
   "cell_type": "markdown",
   "metadata": {},
   "source": [
    "##### Chi-Square Distribution Overview\n",
    "\n",
    "This distribution test has been created in order to test teh degrees of freedom. Thse degrees of freedom are measured via the sum of squared standard deviates of the distribution. \n",
    "\n",
    "For more information on this, please review [OnlineStatbook](http://onlinestatbook.com/2/chi_square/distribution.html). The code in the block below was retrieved from: [numpy.Org](https://numpy.org/doc/stable/reference/random/generated/numpy.random.Generator.chisquare.html#numpy.random.Generator.chisquare)"
   ]
  },
  {
   "cell_type": "code",
   "execution_count": null,
   "metadata": {},
   "outputs": [],
   "source": []
  },
  {
   "cell_type": "code",
   "execution_count": 68,
   "metadata": {},
   "outputs": [
    {
     "data": {
      "text/plain": [
       "array([15.69762799, 18.32146191, 15.03935977, 13.88913037])"
      ]
     },
     "execution_count": 68,
     "metadata": {},
     "output_type": "execute_result"
    }
   ],
   "source": [
    "rng.chisquare(12,4)"
   ]
  },
  {
   "cell_type": "code",
   "execution_count": null,
   "metadata": {},
   "outputs": [],
   "source": []
  },
  {
   "cell_type": "markdown",
   "metadata": {},
   "source": [
    "##### Plotting the data"
   ]
  },
  {
   "cell_type": "code",
   "execution_count": null,
   "metadata": {},
   "outputs": [],
   "source": []
  },
  {
   "cell_type": "code",
   "execution_count": null,
   "metadata": {},
   "outputs": [],
   "source": []
  },
  {
   "cell_type": "markdown",
   "metadata": {},
   "source": [
    "###### Standard T \n",
    "\n",
    "Th Standard T sitribution devlops on in some ways from Ch-Square, in that it encompasses degrees of freedom. \n",
    "The T-Distribution, also refered to as the Student's T Distribution according to [Stat Trek](https://stattrek.com/probability-distributions/t-distribution.aspx). This distrubtiuon is briguht in when the sample isn't as large as would be expceted, whilst the variance is also unkonwn. \n",
    "\n",
    "Side Note: \"The derivation of the t-distribution was first published in 1908 by William Gosset while working for the Guinness Brewery in Dublin. Due to proprietary issues, he had to publish under a pseudonym, and so he used the name Student.\" as retrieved from [numpy.org](https://numpy.org/doc/stable/reference/random/generated/numpy.random.Generator.standard_t.html#numpy.random.Generator.standard_t) \n",
    "\n",
    "The t Score information can be retrieved from teh site [Numpy](https://numpy.org/doc/stable/reference/random/generated/numpy.random.Generator.standard_t.html#numpy.random.Generator.standard_t)"
   ]
  },
  {
   "cell_type": "code",
   "execution_count": 69,
   "metadata": {},
   "outputs": [],
   "source": [
    "Collection = np.array([123, 456, 789, 987, 654, 321])"
   ]
  },
  {
   "cell_type": "code",
   "execution_count": 70,
   "metadata": {},
   "outputs": [],
   "source": [
    "s = rng.standard_t(10, size=100000)\n",
    "\n",
    "# where 10 is the degrees of freedom"
   ]
  },
  {
   "cell_type": "code",
   "execution_count": 71,
   "metadata": {},
   "outputs": [
    {
     "data": {
      "text/plain": [
       "555.0"
      ]
     },
     "execution_count": 71,
     "metadata": {},
     "output_type": "execute_result"
    }
   ],
   "source": [
    "np.mean(Collection)"
   ]
  },
  {
   "cell_type": "code",
   "execution_count": 72,
   "metadata": {},
   "outputs": [
    {
     "data": {
      "text/plain": [
       "316.9738159533055"
      ]
     },
     "execution_count": 72,
     "metadata": {},
     "output_type": "execute_result"
    }
   ],
   "source": [
    "Collection.std(ddof=1)"
   ]
  },
  {
   "cell_type": "code",
   "execution_count": 73,
   "metadata": {},
   "outputs": [],
   "source": [
    "t = (np.mean(Collection)-7725)/(Collection.std(ddof=1)/np.sqrt(len(Collection)))"
   ]
  },
  {
   "cell_type": "markdown",
   "metadata": {},
   "source": [
    "#### Plotting The data"
   ]
  },
  {
   "cell_type": "code",
   "execution_count": null,
   "metadata": {},
   "outputs": [],
   "source": []
  },
  {
   "cell_type": "code",
   "execution_count": null,
   "metadata": {},
   "outputs": [],
   "source": []
  },
  {
   "cell_type": "markdown",
   "metadata": {},
   "source": [
    "##### Normal (Gaussian) Distrubtion\n",
    "\n",
    "The normal distrubtion is enacted when there is a need to observe a large array of information across a spectrum. These, when placed in a plot, are observed as a bell curve distribution. Such is ht eimportanc eof this bell curve distrubtion, to be viewed, we nbeed to ensure that we have access to the centre of the curve. i.e. Create a Mean and Standard Deviation.\n",
    "\n",
    "For more information on the normal distrubtion [numpy.org](https://numpy.org/doc/stable/reference/random/generated/numpy.random.Generator.normal.html#numpy.random.Generator.normal)"
   ]
  },
  {
   "cell_type": "code",
   "execution_count": 74,
   "metadata": {},
   "outputs": [],
   "source": [
    "a = 0\n",
    "\n",
    "# this can be our mean"
   ]
  },
  {
   "cell_type": "code",
   "execution_count": 75,
   "metadata": {},
   "outputs": [],
   "source": [
    "b = 0.2\n",
    "\n",
    "# this can be our standard deviation\n"
   ]
  },
  {
   "cell_type": "code",
   "execution_count": 76,
   "metadata": {},
   "outputs": [],
   "source": [
    "# Therefore\n",
    "\n",
    "c = rng.normal(a, b, 100)"
   ]
  },
  {
   "cell_type": "code",
   "execution_count": 77,
   "metadata": {},
   "outputs": [
    {
     "data": {
      "text/plain": [
       "0.003190305662137756"
      ]
     },
     "execution_count": 77,
     "metadata": {},
     "output_type": "execute_result"
    }
   ],
   "source": [
    "# Validate mean and the variance \n",
    "\n",
    "abs(a - np.mean(c))"
   ]
  },
  {
   "cell_type": "code",
   "execution_count": 78,
   "metadata": {
    "scrolled": true
   },
   "outputs": [
    {
     "data": {
      "text/plain": [
       "array([0.53380971, 0.02836881, 0.69380458, 0.22654876, 0.13250709,\n",
       "       0.26396902, 0.26279071, 0.33197353, 0.16939014, 0.54259998,\n",
       "       0.21139711, 0.26823637, 0.03926137, 0.19063286, 0.49594407,\n",
       "       0.16697317, 0.03883277, 0.28713195, 0.06093162, 0.00828367,\n",
       "       0.28396419, 0.43959708, 0.05213783, 0.11130153, 0.08725392,\n",
       "       0.05738572, 0.06442231, 0.48048988, 0.06465885, 0.03885834,\n",
       "       0.3059439 , 0.17664904, 0.36320265, 0.45696656, 0.51950912,\n",
       "       0.4507009 , 0.25496159, 0.17864826, 0.38652294, 0.10515049,\n",
       "       0.15944513, 0.07691131, 0.27827215, 0.51427981, 0.03022115,\n",
       "       0.14164998, 0.27769793, 0.09524629, 0.29973721, 0.51371514,\n",
       "       0.30775608, 0.43904371, 0.14000833, 0.4442573 , 0.20498679,\n",
       "       0.10533403, 0.40054961, 0.11655575, 0.44847142, 0.42508788,\n",
       "       0.19402249, 0.54151515, 0.06313557, 0.07649733, 0.30976091,\n",
       "       0.01855582, 0.67958267, 0.14653351, 0.13094855, 0.13655034,\n",
       "       0.32191712, 0.05316231, 0.3402861 , 0.19004538, 0.27632246,\n",
       "       0.0454319 , 0.47256348, 0.15973218, 0.29183787, 0.58799271,\n",
       "       0.71679124, 0.09033284, 0.52859856, 0.18651612, 0.3653145 ,\n",
       "       0.09576319, 0.47251186, 0.2409656 , 0.1558467 , 0.4583487 ,\n",
       "       0.23724506, 0.13308906, 0.07314459, 0.05798049, 0.34938468,\n",
       "       0.38013552, 0.04705035, 0.57359251, 0.11265137, 0.26881315])"
      ]
     },
     "execution_count": 78,
     "metadata": {},
     "output_type": "execute_result"
    }
   ],
   "source": [
    "abs(c - np.std(c, ddof = 1))"
   ]
  },
  {
   "cell_type": "markdown",
   "metadata": {},
   "source": [
    "#### Plotting the data"
   ]
  },
  {
   "cell_type": "code",
   "execution_count": null,
   "metadata": {},
   "outputs": [],
   "source": []
  },
  {
   "cell_type": "code",
   "execution_count": null,
   "metadata": {},
   "outputs": [],
   "source": []
  },
  {
   "cell_type": "markdown",
   "metadata": {},
   "source": [
    "##### Zipf Distribution\n",
    "\n",
    "The Zipf distribtion is based around the principles of Zipf's Law, whereby the law states that: The Frequebcy of an item is inversely proportional to its rank  in a frequency table. \n",
    "\n",
    "For more information on the Zipf Distribution, please review [numpy.org](https://numpy.org/doc/stable/reference/random/generated/numpy.random.Generator.zipf.html#numpy.random.Generator.zipf)"
   ]
  },
  {
   "cell_type": "code",
   "execution_count": 79,
   "metadata": {},
   "outputs": [],
   "source": [
    "d = 4"
   ]
  },
  {
   "cell_type": "code",
   "execution_count": 80,
   "metadata": {},
   "outputs": [
    {
     "ename": "ValueError",
     "evalue": "a <= 1 or a is NaN",
     "output_type": "error",
     "traceback": [
      "\u001b[1;31m---------------------------------------------------------------------------\u001b[0m",
      "\u001b[1;31mValueError\u001b[0m                                Traceback (most recent call last)",
      "\u001b[1;32m<ipython-input-80-3e9da3bbbb46>\u001b[0m in \u001b[0;36m<module>\u001b[1;34m\u001b[0m\n\u001b[1;32m----> 1\u001b[1;33m \u001b[0mZipf\u001b[0m \u001b[1;33m=\u001b[0m \u001b[0mrng\u001b[0m\u001b[1;33m.\u001b[0m\u001b[0mzipf\u001b[0m\u001b[1;33m(\u001b[0m\u001b[0ma\u001b[0m\u001b[1;33m,\u001b[0m \u001b[1;36m1000\u001b[0m\u001b[1;33m)\u001b[0m\u001b[1;33m\u001b[0m\u001b[1;33m\u001b[0m\u001b[0m\n\u001b[0m",
      "\u001b[1;32m_generator.pyx\u001b[0m in \u001b[0;36mnumpy.random._generator.Generator.zipf\u001b[1;34m()\u001b[0m\n",
      "\u001b[1;32m_common.pyx\u001b[0m in \u001b[0;36mnumpy.random._common.disc\u001b[1;34m()\u001b[0m\n",
      "\u001b[1;32m_common.pyx\u001b[0m in \u001b[0;36mnumpy.random._common.check_constraint\u001b[1;34m()\u001b[0m\n",
      "\u001b[1;31mValueError\u001b[0m: a <= 1 or a is NaN"
     ]
    }
   ],
   "source": [
    "Zipf = rng.zipf(a, 1000)"
   ]
  },
  {
   "cell_type": "markdown",
   "metadata": {},
   "source": [
    "#### Plotting the data     "
   ]
  },
  {
   "cell_type": "code",
   "execution_count": null,
   "metadata": {},
   "outputs": [],
   "source": []
  },
  {
   "cell_type": "code",
   "execution_count": null,
   "metadata": {},
   "outputs": [],
   "source": []
  },
  {
   "cell_type": "markdown",
   "metadata": {},
   "source": [
    "### Section 4 Conclusion"
   ]
  },
  {
   "cell_type": "code",
   "execution_count": null,
   "metadata": {},
   "outputs": [],
   "source": []
  },
  {
   "cell_type": "code",
   "execution_count": null,
   "metadata": {},
   "outputs": [],
   "source": []
  },
  {
   "cell_type": "markdown",
   "metadata": {},
   "source": [
    "### Section 5 Bibliography\n",
    "\n",
    "\n",
    "<br>\n",
    "\n",
    "Official Numpy site, November 2020\n",
    "\n",
    "https://numpy.org/doc/stable/reference/random/index.html?highlight=numpy%20random#module-numpy.random\n",
    "<br>\n",
    "Markdown Style Guide, November 2020\n",
    "\n",
    "https://www.markdownguide.org/basic-syntax/\n",
    "<br>\n",
    "Binomial Distribution \n",
    "\n",
    "https://www.datacamp.com/community/tutorials/probability-distributions-python\n",
    "<br>\n",
    "Explanantion of Tuple \n",
    "\n",
    "https://www.programiz.com/python-programming/tuple\n",
    "<br>\n",
    "Explanation of Chi-Square Rule\n",
    "\n",
    "http://onlinestatbook.com/2/chi_square/distribution.html\n",
    "<br>\n",
    "\n",
    "Explanation of Students T Distribution\n",
    "\n",
    "https://stattrek.com/probability-distributions/t-distribution.aspx\n",
    "<br>\n",
    "\n",
    "Explamnation of where PCG64 originates\n",
    "https://numpy.org/doc/stable/reference/random/bit_generators/pcg64.html\n",
    "<br>\n",
    "\n",
    "\n",
    " "
   ]
  },
  {
   "cell_type": "code",
   "execution_count": null,
   "metadata": {},
   "outputs": [],
   "source": []
  },
  {
   "cell_type": "code",
   "execution_count": null,
   "metadata": {},
   "outputs": [],
   "source": []
  }
 ],
 "metadata": {
  "kernelspec": {
   "display_name": "Python 3",
   "language": "python",
   "name": "python3"
  },
  "language_info": {
   "codemirror_mode": {
    "name": "ipython",
    "version": 3
   },
   "file_extension": ".py",
   "mimetype": "text/x-python",
   "name": "python",
   "nbconvert_exporter": "python",
   "pygments_lexer": "ipython3",
   "version": "3.8.5"
  }
 },
 "nbformat": 4,
 "nbformat_minor": 4
}
