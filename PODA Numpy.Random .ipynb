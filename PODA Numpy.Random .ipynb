{
 "cells": [
  {
   "cell_type": "markdown",
   "metadata": {},
   "source": [
    "# Programming for Data Analysis Assignment 2020\n",
    "\n",
    "Module: Programming For Data Analysis  \n",
    "Student Name: John Kavanagh  \n",
    "Lecturer: Brian McGinley \n",
    "\n",
    "The purpose of this assignment is to perform a dissection of the structure of the Numpy.Random package and to explain the interdependeencies of these sections through practical examples of code blocks as well as more practical plotting of graphs.\n",
    "\n",
    "The areas to be reviewed and analysed are laid out as follows;\n",
    "\n",
    "### Area for discussion\n",
    "\n",
    "- Explain the overall purpose of the packag\n",
    "- Explain the use of the simple random data function. \n",
    "- Explain the use of Permutations Funcitons. \n",
    "- Explain the use and purpose of at least five distributions functions. \n",
    "- Explain the use of seeds in generations pseudorandom numbers.\n",
    "\n",
    "\n",
    "While there is an extensive amount of information available, and a large amount of research conducted in this area, the primary area of investigation will be conducted on the official Numpy Documentation catalogue listed [here](https://numpy.org/doc/stable/reference/random/index.html)"
   ]
  },
  {
   "cell_type": "markdown",
   "metadata": {},
   "source": [
    "___"
   ]
  },
  {
   "cell_type": "markdown",
   "metadata": {},
   "source": [
    "### Software Requirements\n",
    "\n",
    "There are a number of pieces of software that are required in order to run this analysis. These are: \n",
    "\n",
    "1. Anaconda\n",
    "2. Jupyter Notebook\n",
    "3. Numpy\n",
    "4. MatPlotLib\n",
    "\n"
   ]
  },
  {
   "cell_type": "code",
   "execution_count": 1,
   "metadata": {},
   "outputs": [],
   "source": [
    "import matplotlib.pyplot as plt"
   ]
  },
  {
   "cell_type": "code",
   "execution_count": 2,
   "metadata": {},
   "outputs": [],
   "source": [
    "import numpy as np"
   ]
  },
  {
   "cell_type": "markdown",
   "metadata": {},
   "source": [
    "___"
   ]
  },
  {
   "cell_type": "markdown",
   "metadata": {},
   "source": [
    "Having reviewed the information that has been laid out in the question , as well as reviewing the information that has been laid out by the documentation from the Numpy site, the analysis will be given the following structure.\n",
    "\n",
    "### Structure of the Analysis\n",
    "\n",
    "#### Section 1 Overview of Numpy.Random\n",
    "- Structure of the package\n",
    "    - State & Seeding\n",
    "\n",
    "#### Section 2 Review of Simple Random Data\n",
    "- Four Key Areas of Simple Random Data\n",
    "\n",
    "#### Section 3 Review of Permutations\n",
    "- Permutations and Shuffle\n",
    "\n",
    "#### Section 4 Leveraging Numpy.Random for Distrubtions\n",
    "- Deep dive into distributiuons and implementation of plotting\n",
    "\n",
    "#### Section 5 Conclusion\n",
    "- Recap on Sections 1-3\n",
    "\n",
    "#### Section 6 Bibliography\n",
    "- Reference Material"
   ]
  },
  {
   "cell_type": "markdown",
   "metadata": {},
   "source": [
    "___"
   ]
  },
  {
   "cell_type": "markdown",
   "metadata": {},
   "source": [
    "### Section 1 Overview of Numpy.Random\n",
    "\n",
    "#####  Structure of the Numpy.Random Package\n",
    "\n",
    "\n",
    "The principle purpose of the package is random number generation, as per [Numpy.org](https://numpy.org/doc/stable/reference/random/index.html?highlight=numpy%20random#quick-start). Numpy, as per the latest edition of the package, has been updated to include several upgrades to the functions as well as a number of other settings in the package. Principle among these, is the introduction of the Permuted Congruential Generator 64 as the default pseudo random number generator. Otherwise known as PCG64, it supports the methods for how random number generation operates [Numpy.Org](https://numpy.org/doc/stable/reference/random/bit_generators/pcg64.html\\0)\n",
    "\n",
    "\n",
    "Within it's hierarchail structure, the numpy package is divided into two core parts, *BitGenerators* and *Generators*. \n",
    "We will be at first reviewing the Bitgenerator, via some sample code to demonstrate the packages capabilities.\n",
    "\n",
    "The relationship between the BitGenerator and the Generator allows for random sampling to occur across numerous distributions."
   ]
  },
  {
   "cell_type": "markdown",
   "metadata": {},
   "source": [
    "##### BitGenerator\n",
    "\n",
    "As per the official documentation on the [numpy.org](https://numpy.org/doc/stable/reference/random/bit_generators/generated/numpy.random.BitGenerator.html#numpy.random.BitGenerator) the BitGenerator performs a limited number of tasks within the numpy.random package but tasks that are crucial nonetheless. Amongst these though, is the management of the state as well as functions that will allow for random 32bit and 64bit values.\n",
    "\n",
    "The BitGenerator is responsible for creating sequences for the package. These sequences are in turn used by the Generator to sample distrubitons that are being created by the user, such as a Zipf, Binomial and Gaussian distribution. These Distributions will be explained later on in the analysis under Section 4. \n",
    "\n",
    "The default BitGenerator for the most recent numpy package release is the PCG64. There are other BitGenerator's that can be called on, but, as indicated by the most recent release notes from Numpy, the PCG64 is the most powerful BitGenerator available to them. Should someone seek to reseed the BitGenerator to it's predecessor, the Mersenne Twister, it can be done so calling on it via the following documentation [Numpy.Org](https://numpy.org/doc/stable/reference/random/bit_generators/mt19937.html#numpy.random.MT19937)\n",
    "\n",
    "For further information on the latest default BitGenerator, please review [here](https://numpy.org/doc/stable/reference/random/bit_generators/pcg64.html#numpy.random.PCG64)\n",
    "\n",
    "###### State & Seeding\n",
    "Now that we understand that the BitGenerator provides a stream of numbers, we need to understand, how seeds are used and facilitate the random number generationm otherwise known as pseudorandom numbers. In order for the BitGenerator to proudce random numbers, it needs to first have it's state initialised by a seed. This process is completed via a process called Seed-Sequence. <br>\n",
    "\n",
    "Setting the seed, according to [StatisticsHowTo.com](https://www.statisticshowto.com/random-seed-definition/) is linked via the time in the machine that the random number is generated. It is because of this seed being set, that the start point of a number being generated is recorded.\n",
    "\n",
    "Seed Sequence is responsible for setting this initial state. It completes this task, via a process of entropy, which can be reviewed via this [link](https://numpy.org/doc/1.19/reference/random/bit_generators/generated/numpy.random.SeedSequence.html#numpy.random.SeedSequence). It is because of this seed sequence process completing, that we can allow for the streams within the BitGenerator to be available.\n",
    "\n",
    "Leveraging the numpy package, we can extract some basic information:"
   ]
  },
  {
   "cell_type": "code",
   "execution_count": 3,
   "metadata": {},
   "outputs": [],
   "source": [
    "np.random.default_rng()\n",
    "\n",
    "from numpy.random import Generator, PCG64, SeedSequence\n",
    "sg = SeedSequence(1234)\n",
    "rg = [Generator(PCG64(s)) for s in sg.spawn(10)]"
   ]
  },
  {
   "cell_type": "code",
   "execution_count": 4,
   "metadata": {},
   "outputs": [
    {
     "data": {
      "text/plain": [
       "Generator(PCG64) at 0x270D2D2B220"
      ]
     },
     "execution_count": 4,
     "metadata": {},
     "output_type": "execute_result"
    }
   ],
   "source": [
    "np.random.default_rng()"
   ]
  },
  {
   "cell_type": "markdown",
   "metadata": {},
   "source": [
    "In the code above, we have initiated the sequence and have returned the BitGenerator that is active and capable of generating pseudo random numbers. This is the source for a BitGenerator test.\n",
    "Source [numpy.org](https://numpy.org/doc/stable/reference/random/bit_generators/generated/numpy.random.BitGenerator.random_raw.html#numpy.random.BitGenerator.random_raw)<br> \n",
    "\n",
    "In order to initiate a new instance of a generator, we must use the following code as well as calling a method, to gather information on the distribution."
   ]
  },
  {
   "cell_type": "code",
   "execution_count": 5,
   "metadata": {},
   "outputs": [],
   "source": [
    "rng = np.random.default_rng()"
   ]
  },
  {
   "cell_type": "code",
   "execution_count": 6,
   "metadata": {},
   "outputs": [],
   "source": [
    "vals = rng.standard_normal(10)\n",
    "more_vals = rng.standard_normal(10)"
   ]
  },
  {
   "cell_type": "code",
   "execution_count": 7,
   "metadata": {},
   "outputs": [
    {
     "data": {
      "text/plain": [
       "-0.455124928303646"
      ]
     },
     "execution_count": 7,
     "metadata": {},
     "output_type": "execute_result"
    }
   ],
   "source": [
    "from numpy.random import Generator, PCG64\n",
    "rg = Generator(PCG64(127897895))\n",
    "rg.standard_normal()"
   ]
  },
  {
   "cell_type": "code",
   "execution_count": 8,
   "metadata": {},
   "outputs": [],
   "source": [
    "# Test to see if there can be a random number generated across a standard distribution."
   ]
  },
  {
   "cell_type": "markdown",
   "metadata": {},
   "source": [
    "##### Generator\n",
    "\n"
   ]
  },
  {
   "cell_type": "markdown",
   "metadata": {},
   "source": [
    "Following on from the BitGenerator, we have the second component of two components that comprosises the numpy.random high-level hierarchial view. \n",
    "The Generator is responsible for allowing access to Distributions as well as the Permutations that will be reviewed later in the text. \n",
    "According to [Numpy.org](https://numpy.org/doc/stable/reference/random/generator.html#numpy.random.Generator)\n",
    ", these distributions are called upon via methods / arguements that we will see throughout the text. \n"
   ]
  },
  {
   "cell_type": "code",
   "execution_count": 9,
   "metadata": {},
   "outputs": [
    {
     "data": {
      "text/plain": [
       "Generator(PCG64) at 0x270D2CB37C0"
      ]
     },
     "execution_count": 9,
     "metadata": {},
     "output_type": "execute_result"
    }
   ],
   "source": [
    "np.random.default_rng()"
   ]
  },
  {
   "cell_type": "code",
   "execution_count": 10,
   "metadata": {},
   "outputs": [],
   "source": [
    "# The default_rng is a method that allows us to run a request on the BitGenerator"
   ]
  },
  {
   "cell_type": "code",
   "execution_count": 11,
   "metadata": {},
   "outputs": [],
   "source": [
    "# If we are to draw out the possibilities of these random numbers being generated, we can see them distributed below."
   ]
  },
  {
   "cell_type": "code",
   "execution_count": 12,
   "metadata": {},
   "outputs": [],
   "source": [
    "np.random.seed(50)"
   ]
  },
  {
   "cell_type": "code",
   "execution_count": 13,
   "metadata": {},
   "outputs": [],
   "source": [
    "Scatter_Numbers = np.empty(1000)\n",
    "for i in range(1000):\n",
    "    Scatter_Numbers[i] = np.random.random()"
   ]
  },
  {
   "cell_type": "code",
   "execution_count": 14,
   "metadata": {},
   "outputs": [
    {
     "data": {
      "text/plain": [
       "(array([101., 101., 111., 103.,  98., 101.,  98.,  92.,  92., 103.]),\n",
       " array([0.00184416, 0.10162572, 0.20140729, 0.30118885, 0.40097042,\n",
       "        0.50075198, 0.60053355, 0.70031511, 0.80009667, 0.89987824,\n",
       "        0.9996598 ]),\n",
       " <BarContainer object of 10 artists>)"
      ]
     },
     "execution_count": 14,
     "metadata": {},
     "output_type": "execute_result"
    },
    {
     "data": {
      "image/png": "[encoded data removed]",
      "text/plain": [
       "<Figure size 432x288 with 1 Axes>"
      ]
     },
     "metadata": {
      "needs_background": "light"
     },
     "output_type": "display_data"
    }
   ],
   "source": [
    "plt.hist(Scatter_Numbers)"
   ]
  },
  {
   "cell_type": "code",
   "execution_count": 15,
   "metadata": {},
   "outputs": [],
   "source": [
    "# In the graph above, we have run a simple for loop in orer to generate a random number generation. \n",
    "# Above was replicated using code reproduced from [DataCamp](https://www.datacamp.com/community/tutorials/numpy-random) "
   ]
  },
  {
   "cell_type": "markdown",
   "metadata": {},
   "source": [
    "___"
   ]
  },
  {
   "cell_type": "markdown",
   "metadata": {},
   "source": [
    "### Section 2 Review of Simple Random Data\n",
    "#### Simple Random Data"
   ]
  },
  {
   "cell_type": "markdown",
   "metadata": {},
   "source": [
    "We have seen from the structured nature of this package, that there are a  number of interdependencies in order for it to run successfully. Next, as part of our analysis into the package, we have the area of simple random data. \n",
    "There are four core sections to this section of the package. They are:  \n",
    "\n",
    "1. Integers\n",
    "2. Random\n",
    "2. Choice\n",
    "4. Bytes\n",
    "\n",
    "Each section has it's own capabilities added to it to make it distinguishable from the last, as we will see in due course.\n",
    "\n",
    "These can be reviewed more extensively from [Numpy.org](https://numpy.org/doc/stable/reference/random/generator.html)\n",
    "\n",
    "> Side Note: NDArray is the concept of a multidimensional container for  items of the same size and type, according to [W3Cub](https://docs.w3cub.com/numpy~1.17/arrays.ndarray). They will be used throughout the exercise.  "
   ]
  },
  {
   "cell_type": "code",
   "execution_count": 16,
   "metadata": {},
   "outputs": [],
   "source": [
    "rng = np.random.default_rng()"
   ]
  },
  {
   "cell_type": "markdown",
   "metadata": {},
   "source": [
    "We use the code in the text box above,  in order to best set ourselves up to test the code to follow. Whereby hte rng on the left hand side, stands for random number generator"
   ]
  },
  {
   "cell_type": "markdown",
   "metadata": {},
   "source": [
    "##### 1.Integers \n",
    "\n",
    "Integers as a data type, being used within the numpy.random package. The same as a lot of other functions, the integer subsection of the random function package, is dependent on an understanding of its' parameters. i.e, what information we will place into the funciton in order to generate an output. \n",
    "\n",
    "\n",
    "Accoridng to [W3Cub](https://docs.w3cub.com/numpy~1.17/random/generated/numpy.random.generator.integers), we need to assess what we want to return, in order to understand what the inputs are going to be. "
   ]
  },
  {
   "cell_type": "code",
   "execution_count": 17,
   "metadata": {},
   "outputs": [
    {
     "data": {
      "text/plain": [
       "array([5, 5, 7, 1, 2, 4, 3, 2, 0, 7, 9, 5, 9, 1, 2, 7, 0, 8, 4, 0],\n",
       "      dtype=int64)"
      ]
     },
     "execution_count": 17,
     "metadata": {},
     "output_type": "execute_result"
    }
   ],
   "source": [
    "rng.integers(0, 10, size=20)"
   ]
  },
  {
   "cell_type": "code",
   "execution_count": 18,
   "metadata": {},
   "outputs": [],
   "source": [
    "# an array of 20 numbers, excluding the higher bound of 10. "
   ]
  },
  {
   "cell_type": "code",
   "execution_count": 19,
   "metadata": {},
   "outputs": [],
   "source": [
    "x = rng.integers(0, 10, size=20)"
   ]
  },
  {
   "cell_type": "code",
   "execution_count": 20,
   "metadata": {},
   "outputs": [],
   "source": [
    "# Take the infromaiton and re-produce it along side a variabel."
   ]
  },
  {
   "cell_type": "markdown",
   "metadata": {},
   "source": [
    "##### Plotting the data"
   ]
  },
  {
   "cell_type": "code",
   "execution_count": 21,
   "metadata": {},
   "outputs": [
    {
     "data": {
      "text/plain": [
       "[<matplotlib.lines.Line2D at 0x270d66844c0>]"
      ]
     },
     "execution_count": 21,
     "metadata": {},
     "output_type": "execute_result"
    },
    {
     "data": {
      "image/png": "[encoded data removed]",
      "text/plain": [
       "<Figure size 432x288 with 1 Axes>"
      ]
     },
     "metadata": {
      "needs_background": "light"
     },
     "output_type": "display_data"
    }
   ],
   "source": [
    "plt.plot(x)"
   ]
  },
  {
   "cell_type": "markdown",
   "metadata": {},
   "source": [
    "In the code above, we can see that there are three parameters, that have been passed into the funciton.\n",
    "Firstly, we have 'low' integer, this is the lowest starting point for what will be generated in the output. In this case it is 0. \n",
    "\n",
    "Next, we have the 'high' integer, which is 'exclusive'. This means that the random numbers generated will not take, in this instance, 10, into the output. \n",
    "\n",
    "Lastly, we have the third parameter, Size. In this context, relates to the number of random numbers to be generated in the ouput based on the limitations as set out in the low and exclusive integer parameters.\n",
    "\n",
    "\n",
    "There's no real insight to be garnered from the graph, other than it being a picotral display of 20 numbers distributed across 0 - 9.\n",
    "\n",
    "For further examples of this case, please review the [Numpy.org](https://numpy.org/doc/stable/reference/random/generated/numpy.random.Generator.integers.html#numpy.random.Generator.integers) site."
   ]
  },
  {
   "cell_type": "markdown",
   "metadata": {},
   "source": [
    "##### 2.Random\n",
    "\n",
    "As true as it was for Integers, we're dependent upon the parameters, in order to extract the return from the Random Subsection. In this instance, the random funciton will allow for floating points to be taken into consideration. Floating points can be reviewed via clicking ont he following link, should you require more informaiton on them, via [TechTerms](https://techterms.com/definition/floatingpoint#:~:text=As%20the%20name%20implies%2C%20floating,decimal%20places%20are%20called%20integers.). \n",
    "\n",
    "The output of the random function will be an an integer between 0.0-1.0. What we produce inside the brackets, will be in relation to its' size. \n",
    "In teh example below we will create  a 7 x 3 matrix.\n",
    "\n",
    "For further examples of this case, please review the [Numpy.org](https://numpy.org/doc/stable/reference/random/generated/numpy.random.Generator.random.html#numpy.random.Generator.random)"
   ]
  },
  {
   "cell_type": "code",
   "execution_count": 22,
   "metadata": {},
   "outputs": [
    {
     "data": {
      "text/plain": [
       "float"
      ]
     },
     "execution_count": 22,
     "metadata": {},
     "output_type": "execute_result"
    }
   ],
   "source": [
    "type(rng.random())"
   ]
  },
  {
   "cell_type": "code",
   "execution_count": 23,
   "metadata": {},
   "outputs": [],
   "source": [
    "# The code above is a simple command on how to determine the datatype that is tolerated."
   ]
  },
  {
   "cell_type": "code",
   "execution_count": 24,
   "metadata": {},
   "outputs": [],
   "source": [
    "# By way of example, create an array with seven rows and three columns, passing it through the random method."
   ]
  },
  {
   "cell_type": "code",
   "execution_count": 25,
   "metadata": {},
   "outputs": [
    {
     "data": {
      "text/plain": [
       "array([[0.64169851, 0.16356627, 0.39572536],\n",
       "       [0.55124459, 0.64151708, 0.14699306],\n",
       "       [0.18707781, 0.56706193, 0.06245152],\n",
       "       [0.19609926, 0.65004381, 0.88940288],\n",
       "       [0.71233335, 0.13436653, 0.62269259],\n",
       "       [0.54976471, 0.50008881, 0.45514717],\n",
       "       [0.03574009, 0.30389625, 0.13925557]])"
      ]
     },
     "execution_count": 25,
     "metadata": {},
     "output_type": "execute_result"
    }
   ],
   "source": [
    "rng.random((7,3))"
   ]
  },
  {
   "cell_type": "markdown",
   "metadata": {},
   "source": [
    "##### Plotting the data"
   ]
  },
  {
   "cell_type": "code",
   "execution_count": 26,
   "metadata": {},
   "outputs": [
    {
     "data": {
      "text/plain": [
       "Text(0, 0.5, 'Effort')"
      ]
     },
     "execution_count": 26,
     "metadata": {},
     "output_type": "execute_result"
    },
    {
     "data": {
      "image/png": "[encoded data removed]",
      "text/plain": [
       "<Figure size 432x288 with 1 Axes>"
      ]
     },
     "metadata": {
      "needs_background": "light"
     },
     "output_type": "display_data"
    }
   ],
   "source": [
    " b = rng.random((7,3))\n",
    "plt.plot(b)\n",
    "plt.title(\"Effort v Efficieny Model across 3 varibales\")\n",
    "plt.xlabel(\"Efficieny\")\n",
    "plt.ylabel(\"Effort\")"
   ]
  },
  {
   "cell_type": "code",
   "execution_count": 27,
   "metadata": {},
   "outputs": [],
   "source": [
    "# The grpah above is a simple example of how numpy and matplotlib cohabitate.\n",
    "# Please note that the information is for visual purposes only"
   ]
  },
  {
   "cell_type": "markdown",
   "metadata": {},
   "source": [
    "According to [MatPlotLib](https://matplotlib.org/tutorials/text/text_intro.html), there are a number of resources that can be used to add greater levels of detail to our graphs."
   ]
  },
  {
   "cell_type": "markdown",
   "metadata": {},
   "source": [
    "##### 3.Choice\n",
    "\n",
    "Choice has been created with the understanding of creating a single item, or an array for an output. What differentiates it from previous iterations of simple random data, is that we can code into the parameter an array, for its consideration. The package, however, will not take in an integer of negative value.  \n",
    "\n",
    "For more information on the Choice subsection , please review the following link from [Numpy.org](https://numpy.org/doc/stable/reference/random/generated/numpy.random.Generator.choice.html#numpy.random.Generator.choice)\n",
    "\n",
    "According to [SharpSightLabs](https://www.sharpsightlabs.com/blog/numpy-random-choice/), there is also the parameter 'replacement' that can be developed upon. Replacement, according to this site, is the option to select the number generated again, as part of the overall selection.  "
   ]
  },
  {
   "cell_type": "code",
   "execution_count": 28,
   "metadata": {},
   "outputs": [
    {
     "data": {
      "text/plain": [
       "array([3, 6, 8, 5, 3], dtype=int64)"
      ]
     },
     "execution_count": 28,
     "metadata": {},
     "output_type": "execute_result"
    }
   ],
   "source": [
    "rng.choice(9, 5, replace=True)"
   ]
  },
  {
   "attachments": {
    "Proof%20of%20ReplacementTrue%20Capture.PNG": {
     "image/png": "[encoded data removed]"
    }
   },
   "cell_type": "markdown",
   "metadata": {},
   "source": [
    "![Proof of the Replacement Arguement](attachment:Proof%20of%20ReplacementTrue%20Capture.PNG)"
   ]
  },
  {
   "cell_type": "code",
   "execution_count": 29,
   "metadata": {},
   "outputs": [],
   "source": [
    "# As above, proof of the replace arguement successfully working in the choice function."
   ]
  },
  {
   "cell_type": "code",
   "execution_count": 30,
   "metadata": {},
   "outputs": [],
   "source": [
    "# We have also mentioned that we can take into the function, a string. If we create a list of data type string, as follows"
   ]
  },
  {
   "cell_type": "code",
   "execution_count": 31,
   "metadata": {},
   "outputs": [],
   "source": [
    "Cars_Manu = ['Audi', 'Seat', 'VW']\n",
    "Bike_Manu = ['Fondriest', 'Campognolo', 'Liv', 'Giant']"
   ]
  },
  {
   "cell_type": "code",
   "execution_count": 32,
   "metadata": {},
   "outputs": [
    {
     "data": {
      "text/plain": [
       "array(['Seat', 'VW', 'Seat', 'Seat', 'Audi', 'Audi', 'VW', 'Audi', 'VW',\n",
       "       'Seat'], dtype='<U4')"
      ]
     },
     "execution_count": 32,
     "metadata": {},
     "output_type": "execute_result"
    }
   ],
   "source": [
    "rng.choice(Cars_Manu, 10)"
   ]
  },
  {
   "cell_type": "code",
   "execution_count": 33,
   "metadata": {},
   "outputs": [
    {
     "data": {
      "text/plain": [
       "array(['Fondriest', 'Liv', 'Campognolo', 'Campognolo', 'Fondriest', 'Liv',\n",
       "       'Fondriest', 'Fondriest', 'Campognolo', 'Giant'], dtype='<U10')"
      ]
     },
     "execution_count": 33,
     "metadata": {},
     "output_type": "execute_result"
    }
   ],
   "source": [
    "rng.choice(Bike_Manu, 10)"
   ]
  },
  {
   "cell_type": "markdown",
   "metadata": {},
   "source": [
    "We can see from the array created above that there are multiple instances of the one manufactures name, in both instances, as the size of the array exceeds the parameters in the variable Cars_Manu."
   ]
  },
  {
   "cell_type": "markdown",
   "metadata": {},
   "source": [
    "##### 4.Bytes\n",
    "\n",
    "The last of the four subsections within the Simple Data funciton, bytes, is used to return just that, bytes. \n",
    "The parameter for this snippet of code is limited to one, and that is length of type integer. \n",
    "\n",
    "By far, the most straight forward of the arguements to be called on, it is a matter of stipulating the lenght of the bytes you want to return, accordign to [Kite](https://www.kite.com/python/docs/numpy.random.bytes).\n",
    "\n",
    "For more information on this subsection, please review the link via [numpy.org](https://numpy.org/doc/stable/reference/random/generated/numpy.random.Generator.bytes.html#numpy.random.Generator.bytes)\n"
   ]
  },
  {
   "cell_type": "code",
   "execution_count": 34,
   "metadata": {},
   "outputs": [
    {
     "data": {
      "text/plain": [
       "b'\\xd3\\xa5:\\xcf5\\xf1\\xe7'"
      ]
     },
     "execution_count": 34,
     "metadata": {},
     "output_type": "execute_result"
    }
   ],
   "source": [
    "rng.bytes(7)"
   ]
  },
  {
   "cell_type": "markdown",
   "metadata": {},
   "source": [
    "This is string of length 7, as hard coded into the line."
   ]
  },
  {
   "cell_type": "markdown",
   "metadata": {},
   "source": [
    "____"
   ]
  },
  {
   "cell_type": "markdown",
   "metadata": {},
   "source": [
    "### Section 3 Review of Permutations\n",
    "\n",
    "\n",
    "\n",
    "Within this segement of the package, we are going to be reviewing two types of order that we can put an array through. \n",
    "\n",
    "They are:\n",
    "- Shuffle\n",
    "- Permutations\n",
    "\n",
    "In order to fully comprehend the following methods that are going to be applied to our numpy.random package, we need to know what to 'to permute' means. Simply put, it means to change the order of something, as per [Merriam Webster](https://www.merriam-webster.com/dictionary/permutate#:~:text=%3A%20change%2C%20interchange%20especially%20%3A%20to%20arrange%20in%20a%20different%20order). The purpose of these two arguements, is to augment the input into a differnt order. "
   ]
  },
  {
   "cell_type": "markdown",
   "metadata": {},
   "source": [
    "##### Shuffle\n",
    "\n",
    "In order to shuffle a list of integers, we must set up our code to accept the integer, as follow.\n",
    "\n",
    "For more information on this, please review [Numpy.org](https://numpy.org/doc/stable/reference/random/generated/numpy.random.shuffle.html#numpy.random.shuffle)\n",
    "\n",
    "For further reading on the reshape function, please visit [here](https://numpy.org/doc/stable/reference/random/generated/numpy.random.Generator.shuffle.html#numpy.random.Generator.shuffle)."
   ]
  },
  {
   "cell_type": "code",
   "execution_count": 35,
   "metadata": {},
   "outputs": [],
   "source": [
    "Shuf = np.arange(20)"
   ]
  },
  {
   "cell_type": "code",
   "execution_count": 36,
   "metadata": {},
   "outputs": [],
   "source": [
    "# Set up a variable called Shuf which is a list of numbers up to, but excluding 20"
   ]
  },
  {
   "cell_type": "code",
   "execution_count": 37,
   "metadata": {},
   "outputs": [],
   "source": [
    "np.random.shuffle(Shuf)"
   ]
  },
  {
   "cell_type": "code",
   "execution_count": 38,
   "metadata": {},
   "outputs": [],
   "source": [
    "# we then take this variable, and apply the shuffle function to it."
   ]
  },
  {
   "cell_type": "code",
   "execution_count": 39,
   "metadata": {},
   "outputs": [
    {
     "data": {
      "text/plain": [
       "array([ 5, 16,  3, 11,  1,  2, 18, 17, 10, 15, 13,  0,  9, 19,  7, 12,  4,\n",
       "       14,  6,  8])"
      ]
     },
     "execution_count": 39,
     "metadata": {},
     "output_type": "execute_result"
    }
   ],
   "source": [
    "Shuf"
   ]
  },
  {
   "cell_type": "markdown",
   "metadata": {},
   "source": [
    "We can see from the array that has been returned from the codeblock, that there are 20 integers in the array. You will also see that there is no number 20 in this list, as the list has commenced from the number 0."
   ]
  },
  {
   "cell_type": "code",
   "execution_count": 40,
   "metadata": {
    "scrolled": true
   },
   "outputs": [
    {
     "data": {
      "text/plain": [
       "array([17, 10,  6,  3,  4, 11,  2, 13,  7,  1, 15, 16,  9,  0, 14,  8, 12,\n",
       "        5])"
      ]
     },
     "execution_count": 40,
     "metadata": {},
     "output_type": "execute_result"
    }
   ],
   "source": [
    "Shuf = np.arange(18)\n",
    "np.random.shuffle(Shuf)\n",
    "Shuf"
   ]
  },
  {
   "cell_type": "code",
   "execution_count": 41,
   "metadata": {},
   "outputs": [
    {
     "data": {
      "text/plain": [
       "Text(0, 0.5, 'Strength')"
      ]
     },
     "execution_count": 41,
     "metadata": {},
     "output_type": "execute_result"
    },
    {
     "data": {
      "image/png": "[encoded data removed]",
      "text/plain": [
       "<Figure size 432x288 with 1 Axes>"
      ]
     },
     "metadata": {
      "needs_background": "light"
     },
     "output_type": "display_data"
    }
   ],
   "source": [
    "plt.plot(Shuf)\n",
    "plt.title(\"Time and strength of earthquake\")\n",
    "plt.xlabel(\"Time\")\n",
    "plt.ylabel(\"Strength\")"
   ]
  },
  {
   "cell_type": "markdown",
   "metadata": {},
   "source": [
    "We can also add in the reshape funciton, so that we can create multiple arrays, based on the common denominators that comprise an integer. In the example displayed above, we have shuffled through the 18 numbers and will divide them into 6 seperate arrays, of 3 numbers each. This is only possible as 6 multiplied by 3 is equal to the number set out in the parameter."
   ]
  },
  {
   "cell_type": "code",
   "execution_count": 42,
   "metadata": {},
   "outputs": [
    {
     "data": {
      "text/plain": [
       "array([[15, 16, 17],\n",
       "       [ 9, 10, 11],\n",
       "       [ 3,  4,  5],\n",
       "       [12, 13, 14],\n",
       "       [ 0,  1,  2],\n",
       "       [ 6,  7,  8]])"
      ]
     },
     "execution_count": 42,
     "metadata": {},
     "output_type": "execute_result"
    }
   ],
   "source": [
    "Shuf = np.arange(18).reshape((6, 3))\n",
    "np.random.shuffle(Shuf)\n",
    "Shuf"
   ]
  },
  {
   "cell_type": "code",
   "execution_count": 43,
   "metadata": {},
   "outputs": [
    {
     "data": {
      "text/plain": [
       "Text(0, 0.5, 'Strength')"
      ]
     },
     "execution_count": 43,
     "metadata": {},
     "output_type": "execute_result"
    },
    {
     "data": {
      "image/png": "[encoded data removed]",
      "text/plain": [
       "<Figure size 432x288 with 1 Axes>"
      ]
     },
     "metadata": {
      "needs_background": "light"
     },
     "output_type": "display_data"
    }
   ],
   "source": [
    "plt.plot(Shuf)\n",
    "plt.title(\"Time and strength of earthquake\")\n",
    "plt.xlabel(\"Time\")\n",
    "plt.ylabel(\"Strength\")"
   ]
  },
  {
   "cell_type": "code",
   "execution_count": 44,
   "metadata": {},
   "outputs": [],
   "source": [
    "# Although the information above is stubbed information, randomly generated, from a visualisation perspective\n",
    "# we can see that it allows for comparitive analysis"
   ]
  },
  {
   "cell_type": "markdown",
   "metadata": {},
   "source": [
    "##### Permutations\n",
    "\n",
    "Similar in its basis to shuffle, the permutations function will accept a integer as well as an array as a parameter. \n",
    "\n",
    "According to [StackOverflow](https://stackoverflow.com/questions/15474159/shuffle-vs-permute-numpy#:~:text=shuffle(x)%20can%20permute%20the,randomly%20along%20the%20first%20axis.&text=permutation(x)%20actually%20returns%20a,original%20data%20is%20not%20changed.) form a coding perspective, there is a difference between permutation and shuffle that needs to be adhered to and that \"numpy.random.permutation(x) actually returns a new variable and the original data is not changed\".\n",
    "\n",
    "\n",
    "For more inforamtion on this topic, please review [Numpy.org](https://numpy.org/doc/stable/reference/random/generated/numpy.random.Generator.permutation.html#numpy.random.Generator.permutation)"
   ]
  },
  {
   "cell_type": "code",
   "execution_count": 45,
   "metadata": {},
   "outputs": [],
   "source": [
    "# If we take the basis for our analysis as: \n",
    "rng = np.random.default_rng()"
   ]
  },
  {
   "cell_type": "code",
   "execution_count": 46,
   "metadata": {},
   "outputs": [
    {
     "data": {
      "text/plain": [
       "array([6, 5, 0, 1, 3, 2, 4])"
      ]
     },
     "execution_count": 46,
     "metadata": {},
     "output_type": "execute_result"
    }
   ],
   "source": [
    "# and we try to run through a permutation of an integer, 7. \n",
    "rng.permutation(7) "
   ]
  },
  {
   "cell_type": "code",
   "execution_count": 47,
   "metadata": {},
   "outputs": [],
   "source": [
    "# we can also perform the permutation on an array [1, 2, 3, 4, 5, 6, 7]"
   ]
  },
  {
   "cell_type": "code",
   "execution_count": 48,
   "metadata": {},
   "outputs": [
    {
     "data": {
      "text/plain": [
       "array([2, 7, 1, 4, 3, 6, 5])"
      ]
     },
     "execution_count": 48,
     "metadata": {},
     "output_type": "execute_result"
    }
   ],
   "source": [
    "rng.permutation([1, 2, 3, 4, 5, 6, 7])"
   ]
  },
  {
   "cell_type": "markdown",
   "metadata": {},
   "source": [
    "___"
   ]
  },
  {
   "cell_type": "markdown",
   "metadata": {},
   "source": [
    "### Section 4 Leveraging Numpy.Random for Distrubtions\n",
    "\n",
    "The objective of this exercise is to review at elast five different types of distribution.\n",
    "\n",
    "The five types of distribution that we are going to review are: \n",
    "\n",
    "- Binomial\n",
    "- Chi-Square\n",
    "- Standard T\n",
    "- Normal (Gaussian) Distribution\n",
    "- Zipf\n"
   ]
  },
  {
   "cell_type": "markdown",
   "metadata": {},
   "source": [
    "##### Binomial Distribution Overview\n",
    "\n",
    "When we implement the Binomial Distribution, we need to have a clear Pass/ Fail theory to work from. One of the most common of these, is that of the coin toss. According to [StatisticsHowTo](https://www.statisticshowto.com/probability-and-statistics/binomial-theorem/binomial-distribution-formula/) we are looking for an exercise where there are two outcomes and the exercise itself will need to be repeated multiple times to ensure the result is more robust. \n",
    "\n",
    "For more information [Numpy.org](https://numpy.org/doc/stable/reference/random/generated/numpy.random.Generator.binomial.html#numpy.random.Generator.binomial)\n",
    "\n",
    "Binomial distributuion refers to an event where there are two outcomes from the event. The most common example of a binomial distribtion is the toss of a coin. We can set up our analysis as follows:"
   ]
  },
  {
   "cell_type": "code",
   "execution_count": 49,
   "metadata": {},
   "outputs": [],
   "source": [
    "# number of trials\n",
    "n = 10"
   ]
  },
  {
   "cell_type": "code",
   "execution_count": 50,
   "metadata": {},
   "outputs": [],
   "source": [
    "# Probability of event occuring\n",
    "p = 0.5"
   ]
  },
  {
   "cell_type": "code",
   "execution_count": 51,
   "metadata": {},
   "outputs": [],
   "source": [
    "result = rng.binomial(n, p, 100)"
   ]
  },
  {
   "cell_type": "code",
   "execution_count": 52,
   "metadata": {},
   "outputs": [
    {
     "data": {
      "text/plain": [
       "array([5, 7, 6, 4, 9, 3, 7, 5, 4, 5, 4, 7, 5, 1, 7, 6, 8, 4, 4, 1, 6, 4,\n",
       "       4, 2, 5, 7, 4, 4, 5, 5, 5, 7, 7, 7, 5, 4, 3, 8, 3, 7, 7, 6, 2, 4,\n",
       "       6, 7, 6, 6, 6, 6, 6, 4, 5, 5, 5, 6, 6, 2, 4, 5, 7, 6, 5, 4, 5, 2,\n",
       "       8, 6, 4, 6, 4, 7, 4, 7, 3, 6, 3, 7, 6, 6, 8, 3, 4, 6, 7, 9, 3, 4,\n",
       "       5, 5, 4, 6, 3, 6, 6, 6, 4, 5, 6, 3], dtype=int64)"
      ]
     },
     "execution_count": 52,
     "metadata": {},
     "output_type": "execute_result"
    }
   ],
   "source": [
    "result"
   ]
  },
  {
   "cell_type": "code",
   "execution_count": 53,
   "metadata": {},
   "outputs": [],
   "source": [
    "# we can see from the  paramter above the number 100. This represents the number of times the trial occured. \n",
    "# That is, there were 10 tosses of a coin completed 100 times."
   ]
  },
  {
   "cell_type": "markdown",
   "metadata": {},
   "source": [
    "##### Plotting the data"
   ]
  },
  {
   "cell_type": "code",
   "execution_count": 54,
   "metadata": {},
   "outputs": [
    {
     "data": {
      "text/plain": [
       "(array([ 2.,  4.,  9., 21.,  0., 18., 24., 16.,  4.,  2.]),\n",
       " array([1. , 1.8, 2.6, 3.4, 4.2, 5. , 5.8, 6.6, 7.4, 8.2, 9. ]),\n",
       " <BarContainer object of 10 artists>)"
      ]
     },
     "execution_count": 54,
     "metadata": {},
     "output_type": "execute_result"
    },
    {
     "data": {
      "image/png": "[encoded data removed]",
      "text/plain": [
       "<Figure size 432x288 with 1 Axes>"
      ]
     },
     "metadata": {
      "needs_background": "light"
     },
     "output_type": "display_data"
    }
   ],
   "source": [
    "plt.hist(result, bins = 10, color = 'g')"
   ]
  },
  {
   "cell_type": "code",
   "execution_count": 55,
   "metadata": {},
   "outputs": [],
   "source": [
    "# We can see from the containers in the histogram, that there is no real clear pattern to the distribution."
   ]
  },
  {
   "cell_type": "markdown",
   "metadata": {},
   "source": [
    "##### Chi-Square Distribution Overview\n",
    "\n",
    "This distribution test has been created in order to test the degrees of freedom. These degrees of freedom are measured via the sum of squared standard deviates of the distribution. \n",
    "\n",
    "According to [ScienceDirect](https://www.sciencedirect.com/topics/mathematics/chi-square-distribution), alongside the degrees of freedom, it is also a test on the goodness of the fit for a set of data, confidence in the variance of variables as well as the standard deviation.\n",
    "\n",
    "\n",
    "For more information on this, please review [OnlineStatbook](http://onlinestatbook.com/2/chi_square/distribution.html). The code in the block below was retrieved from: [numpy.Org](https://numpy.org/doc/stable/reference/random/generated/numpy.random.Generator.chisquare.html#numpy.random.Generator.chisquare)"
   ]
  },
  {
   "cell_type": "code",
   "execution_count": 56,
   "metadata": {},
   "outputs": [
    {
     "data": {
      "text/plain": [
       "array([[16.04144878, 21.89423834,  8.93098855,  6.7409569 , 12.9233177 ,\n",
       "        16.9253598 ],\n",
       "       [11.36334796, 10.38164656, 21.91533341,  7.92524238, 10.30277807,\n",
       "        16.2020787 ],\n",
       "       [ 9.62055916, 10.80044721, 12.54374989,  6.03697567, 12.17226956,\n",
       "        11.06162661]])"
      ]
     },
     "execution_count": 56,
     "metadata": {},
     "output_type": "execute_result"
    }
   ],
   "source": [
    "rng.chisquare(12,(3, 6,))"
   ]
  },
  {
   "cell_type": "code",
   "execution_count": 57,
   "metadata": {},
   "outputs": [],
   "source": [
    "# The parameters that are set out above, is degree of freedom (12)\n",
    "# The second parameter we see a tuple which shapes the output."
   ]
  },
  {
   "cell_type": "markdown",
   "metadata": {},
   "source": [
    "##### Plotting the data"
   ]
  },
  {
   "cell_type": "code",
   "execution_count": 58,
   "metadata": {},
   "outputs": [
    {
     "data": {
      "text/plain": [
       "<matplotlib.collections.PathCollection at 0x270d6882f10>"
      ]
     },
     "execution_count": 58,
     "metadata": {},
     "output_type": "execute_result"
    },
    {
     "data": {
      "image/png": "[encoded data removed]",
      "text/plain": [
       "<Figure size 432x288 with 1 Axes>"
      ]
     },
     "metadata": {
      "needs_background": "light"
     },
     "output_type": "display_data"
    }
   ],
   "source": [
    "k = rng.chisquare(12,(3, 2))\n",
    "l = rng.chisquare(20,(3, 2))\n",
    "m = rng.random((3, 2))\n",
    "\n",
    "color = (\"red\", \"green\", \"cyan\", \"blue\", \"orange\", \"purple\")\n",
    "\n",
    "plt.scatter(k, l, s=m*1000, alpha=0.5, c=color)"
   ]
  },
  {
   "cell_type": "code",
   "execution_count": 59,
   "metadata": {},
   "outputs": [],
   "source": [
    "# In the graph above, we have a scatter plot for the 6 (2 x 3) pieces of information generated. "
   ]
  },
  {
   "cell_type": "markdown",
   "metadata": {},
   "source": [
    "As part of this graph, according to [MatplotLib](https://pythonspot.com/matplotlib-scatterplot/) , there are a number of colors that are available to be called within the library.\n",
    "\n",
    "As there are 6 components generated, because of how we have orchestrated the tuple in our code, we need to ensure that there was a way of displaying these variances. \n",
    "\n",
    "According to [Python-Graph-Gallery](https://python-graph-gallery.com/270-basic-bubble-plot/), we need to ensure that there is a conscious acknowledgement of the size applied as an arghuement in the scatter function. "
   ]
  },
  {
   "cell_type": "markdown",
   "metadata": {},
   "source": [
    "###### Standard T \n",
    "\n",
    "The Standard T distribution develops on in some ways from Chi-Square Distribution, in that it also encompasses degrees of freedom. \n",
    "The T-Distribution, also refered to as the Student's T Distribution according to [Stat Trek](https://stattrek.com/probability-distributions/t-distribution.aspx), is the distrubtiuon brought in when the sample isn't as large as would be expected or prefered, whilst the variance is also unkonwn. \n",
    "\n",
    "> Side Note: \"The derivation of the t-distribution was first published in 1908 by William Gosset while working for the Guinness Brewery in Dublin. Due to proprietary issues, he had to publish under a pseudonym, and so he used the name Student.\" as retrieved from [numpy.org](https://numpy.org/doc/stable/reference/random/generated/numpy.random.Generator.standard_t.html#numpy.random.Generator.standard_t) \n",
    "\n",
    "The t Score information can be retrieved from teh site [Numpy](https://numpy.org/doc/stable/reference/random/generated/numpy.random.Generator.standard_t.html#numpy.random.Generator.standard_t)"
   ]
  },
  {
   "cell_type": "code",
   "execution_count": 60,
   "metadata": {},
   "outputs": [],
   "source": [
    "Collection = np.array([123, 456, 789, 987, 654, 321])"
   ]
  },
  {
   "cell_type": "code",
   "execution_count": 61,
   "metadata": {},
   "outputs": [],
   "source": [
    "# create a variable, collection, equal to an array of type integer"
   ]
  },
  {
   "cell_type": "code",
   "execution_count": 62,
   "metadata": {},
   "outputs": [],
   "source": [
    "s = rng.standard_t(10, size=100000)\n",
    "\n",
    "# where 10 is the degrees of freedom"
   ]
  },
  {
   "cell_type": "code",
   "execution_count": 63,
   "metadata": {},
   "outputs": [
    {
     "data": {
      "text/plain": [
       "555.0"
      ]
     },
     "execution_count": 63,
     "metadata": {},
     "output_type": "execute_result"
    }
   ],
   "source": [
    "np.mean(Collection)"
   ]
  },
  {
   "cell_type": "code",
   "execution_count": 64,
   "metadata": {},
   "outputs": [
    {
     "data": {
      "text/plain": [
       "316.9738159533055"
      ]
     },
     "execution_count": 64,
     "metadata": {},
     "output_type": "execute_result"
    }
   ],
   "source": [
    "Collection.std(ddof=1)"
   ]
  },
  {
   "cell_type": "code",
   "execution_count": 65,
   "metadata": {},
   "outputs": [],
   "source": [
    "t = (np.mean(Collection)-7725)/(Collection.std(ddof=1)/np.sqrt(len(Collection)))"
   ]
  },
  {
   "cell_type": "markdown",
   "metadata": {},
   "source": [
    "#### Plotting The data"
   ]
  },
  {
   "cell_type": "code",
   "execution_count": 66,
   "metadata": {},
   "outputs": [],
   "source": [
    "# So that we can generate a histogram, we need to create a variable, encompassing our work above."
   ]
  },
  {
   "cell_type": "code",
   "execution_count": 67,
   "metadata": {},
   "outputs": [
    {
     "data": {
      "image/png": "[encoded data removed]",
      "text/plain": [
       "<Figure size 432x288 with 1 Axes>"
      ]
     },
     "metadata": {
      "needs_background": "light"
     },
     "output_type": "display_data"
    }
   ],
   "source": [
    "n = plt.hist(s, bins=100, density=True)"
   ]
  },
  {
   "cell_type": "code",
   "execution_count": 68,
   "metadata": {},
   "outputs": [],
   "source": [
    "# We can see from the table, that there is a consiberable distribution =-2.5."
   ]
  },
  {
   "cell_type": "markdown",
   "metadata": {},
   "source": [
    "##### Normal (Gaussian) Distrubtion\n",
    "\n",
    "The normal distrubtion is enacted when there is a need to observe a large array of information across a spectrum. These, when placed in a plot, are observed as a bell curve distribution. Such is ht eimportanc eof this bell curve distrubtion, to be viewed, we nbeed to ensure that we have access to the centre of the curve. i.e. Create a Mean and Standard Deviation.\n",
    "\n",
    "For more information on the normal distrubtion [numpy.org](https://numpy.org/doc/stable/reference/random/generated/numpy.random.Generator.normal.html#numpy.random.Generator.normal)"
   ]
  },
  {
   "cell_type": "code",
   "execution_count": 69,
   "metadata": {},
   "outputs": [],
   "source": [
    "a = 0\n",
    "\n",
    "# this can be our mean"
   ]
  },
  {
   "cell_type": "code",
   "execution_count": 70,
   "metadata": {},
   "outputs": [],
   "source": [
    "b = 0.2\n",
    "\n",
    "# this can be our standard deviation\n"
   ]
  },
  {
   "cell_type": "code",
   "execution_count": 71,
   "metadata": {},
   "outputs": [],
   "source": [
    "# Therefore\n",
    "\n",
    "c = rng.normal(a, b, 100)"
   ]
  },
  {
   "cell_type": "code",
   "execution_count": 72,
   "metadata": {},
   "outputs": [
    {
     "data": {
      "text/plain": [
       "0.0354871706895833"
      ]
     },
     "execution_count": 72,
     "metadata": {},
     "output_type": "execute_result"
    }
   ],
   "source": [
    "# Validate mean and the variance \n",
    "\n",
    "abs(a - np.mean(c))"
   ]
  },
  {
   "cell_type": "code",
   "execution_count": 73,
   "metadata": {
    "scrolled": true
   },
   "outputs": [
    {
     "data": {
      "text/plain": [
       "array([0.1139466 , 0.14518212, 0.0769566 , 0.0265739 , 0.05722412,\n",
       "       0.22896568, 0.6857477 , 0.16018963, 0.44973195, 0.00259807,\n",
       "       0.03818539, 0.07200718, 0.15841523, 0.1053323 , 0.07909131,\n",
       "       0.1512689 , 0.04451628, 0.40083258, 0.52924508, 0.07833609,\n",
       "       0.3082956 , 0.19568948, 0.16783506, 0.24499555, 0.49188307,\n",
       "       0.31593709, 0.02414542, 0.21566387, 0.10433417, 0.00571121,\n",
       "       0.27217598, 0.0108698 , 0.05423386, 0.0267854 , 0.21650042,\n",
       "       0.13138116, 0.22421557, 0.42999863, 0.09491351, 0.04018223,\n",
       "       0.22284415, 0.04785524, 0.13109953, 0.18709305, 0.11615438,\n",
       "       0.10467025, 0.31731367, 0.73283051, 0.12248698, 0.65533505,\n",
       "       0.45861691, 0.30159066, 0.43455771, 0.23478142, 0.70451555,\n",
       "       0.44424862, 0.18875851, 0.30594901, 0.45633943, 0.17999678,\n",
       "       0.18176979, 0.00335122, 0.03417179, 0.21155257, 0.05176977,\n",
       "       0.0663119 , 0.10152341, 0.12192859, 0.1475776 , 0.13763393,\n",
       "       0.19162214, 0.1886498 , 0.0136109 , 0.0313861 , 0.32598759,\n",
       "       0.12868874, 0.19302451, 0.06844922, 0.51819376, 0.1545119 ,\n",
       "       0.13386561, 0.46205185, 0.00756543, 0.12759116, 0.02337534,\n",
       "       0.27330997, 0.09504376, 0.11190014, 0.12632799, 0.19778741,\n",
       "       0.20481438, 0.15326439, 0.30938453, 0.33920625, 0.10004527,\n",
       "       0.33962966, 0.22332223, 0.20000486, 0.23221384, 0.2404448 ])"
      ]
     },
     "execution_count": 73,
     "metadata": {},
     "output_type": "execute_result"
    }
   ],
   "source": [
    "abs(c - np.std(c, ddof = 1))"
   ]
  },
  {
   "cell_type": "markdown",
   "metadata": {},
   "source": [
    "#### Plotting the data"
   ]
  },
  {
   "cell_type": "code",
   "execution_count": 74,
   "metadata": {},
   "outputs": [
    {
     "data": {
      "text/plain": [
       "[<matplotlib.lines.Line2D at 0x270d6a5d4f0>]"
      ]
     },
     "execution_count": 74,
     "metadata": {},
     "output_type": "execute_result"
    },
    {
     "data": {
      "image/png": "[encoded data removed]",
      "text/plain": [
       "<Figure size 432x288 with 1 Axes>"
      ]
     },
     "metadata": {
      "needs_background": "light"
     },
     "output_type": "display_data"
    }
   ],
   "source": [
    "count, bins, ignored = plt.hist(c, 30, density=True)\n",
    "plt.plot(bins, 1/(b * np.sqrt(2 * np.pi)) *\n",
    "               np.exp( - (bins - a)**2 / (2 * b**2) ),\n",
    "         linewidth=2, color='r')"
   ]
  },
  {
   "cell_type": "markdown",
   "metadata": {},
   "source": [
    "The code that has been replcated in the code block above, has been reproduced from [numpy.org](https://numpy.org/doc/stable/reference/random/generated/numpy.random.Generator.normal.html#numpy.random.Generator.normal)"
   ]
  },
  {
   "cell_type": "markdown",
   "metadata": {},
   "source": [
    "##### Zipf Distribution\n",
    "\n",
    "The Zipf distribtion is based around the principles of Zipf's Law, whereby the law states that: The Frequency of an item is inversely proportional to its rank  in a frequency table. \n",
    "\n",
    "For more information on the Zipf Distribution, please review [numpy.org](https://numpy.org/doc/stable/reference/random/generated/numpy.random.Generator.zipf.html#numpy.random.Generator.zipf)"
   ]
  },
  {
   "cell_type": "code",
   "execution_count": 87,
   "metadata": {},
   "outputs": [],
   "source": [
    "p = 4.0"
   ]
  },
  {
   "cell_type": "code",
   "execution_count": 88,
   "metadata": {},
   "outputs": [],
   "source": [
    "Zipf = rng.zipf(p, 1000)"
   ]
  },
  {
   "cell_type": "markdown",
   "metadata": {},
   "source": [
    "___"
   ]
  },
  {
   "cell_type": "markdown",
   "metadata": {},
   "source": [
    "### Section 5 Conclusion"
   ]
  },
  {
   "cell_type": "markdown",
   "metadata": {},
   "source": [
    "We have seen from the start of this exercise, that the numpy.random package has a great detail of functionality to it. Be that, as part of the structural information that is in place, with BitGenerators as well as the Generators, all the way up to and including the numerous disrtibutions that can be used with data. \n",
    "We have seen that there are a number of methods that we can call, in order to orientate the data to our choosing, be it a permutatiuon of the data, a shuffle, or perhaps just a different form of distribtion. "
   ]
  },
  {
   "cell_type": "markdown",
   "metadata": {},
   "source": [
    "___"
   ]
  },
  {
   "cell_type": "markdown",
   "metadata": {},
   "source": [
    "### Section 6 Bibliography\n",
    "\n",
    "\n",
    "Official Numpy site, November 2020\n",
    "https://numpy.org/doc/stable/reference/random/index.html?highlight=numpy%20random#module-numpy.random\n",
    "\n",
    "\n",
    "Markdown Style Guide, November 2020\n",
    "https://www.markdownguide.org/basic-syntax/\n",
    "\n",
    "\n",
    "Binomial Distribution \n",
    "https://www.datacamp.com/community/tutorials/probability-distributions-python\n",
    "\n",
    "\n",
    "Explanantion of Tuple \n",
    "https://www.programiz.com/python-programming/tuple\n",
    "\n",
    "\n",
    "Explanation of Chi-Square Rule\n",
    "http://onlinestatbook.com/2/chi_square/distribution.html\n",
    "\n",
    "\n",
    "Explanation of Students T Distribution\n",
    "https://stattrek.com/probability-distributions/t-distribution.aspx\n",
    "\n",
    "Explanation of where PCG64 originates\n",
    "https://numpy.org/doc/stable/reference/random/bit_generators/pcg64.html\n",
    "\n",
    "Datacamp.com\n",
    "https://www.datacamp.com/community/tutorials/numpy-random\n",
    "\n",
    "Techterms.Com\n",
    "https://techterms.com/definition/floatingpoint#:~:text=As%20the%20name%20implies%2C%20floating,decimal%20places%20are%20called%20integers.\n",
    "\n",
    "MatPlotLib - Legend\n",
    "https://matplotlib.org/tutorials/intermediate/legend_guide.html\n",
    " \n",
    "W3CUB - ND Array \n",
    "https://docs.w3cub.com/numpy~1.17/arrays.ndarray\n",
    "\n",
    "SharpSight\n",
    "https://www.sharpsightlabs.com/blog/numpy-random-choice/\n",
    "\n",
    "Merriam Webster\n",
    "https://www.merriam-webster.com/dictionary/permutate#:~:text=%3A%20change%2C%20interchange%20especially%20%3A%20to%20arrange%20in%20a%20different%20order\n",
    "\n",
    "Stack Overflow - Permutaitons Function\n",
    "https://stackoverflow.com/questions/15474159/shuffle-vs-permute-numpy#:~:text=shuffle(x)%20can%20permute%20the,randomly%20along%20the%20first%20axis.&text=permutation(x)%20actually%20returns%20a,original%20data%20is%20not%20changed.\n",
    "\n",
    "\n",
    "Kite - Information on bytes\n",
    "https://www.kite.com/python/docs/numpy.random.bytes\n",
    "\n",
    "Binomial Distribution\n",
    "https://www.statisticshowto.com/probability-and-statistics/binomial-theorem/binomial-distribution-formula/\n",
    "\n",
    "\n",
    "Science Direct\n",
    "https://www.sciencedirect.com/topics/mathematics/chi-square-distribution\n",
    "\n",
    "MatPlotLib - Scatter Plot Setup\n",
    "https://pythonspot.com/matplotlib-scatterplot/\n",
    "\n",
    "Python-Gallery - Scatter Plot Support\n",
    "https://python-graph-gallery.com/270-basic-bubble-plot/\n",
    "\n",
    "\n",
    "Numpy - Normal Distribution\n",
    "https://numpy.org/doc/stable/reference/random/generated/numpy.random.Generator.normal.html#numpy.random.Generator.normal\n",
    "\n",
    "\n",
    "W3Bub - Information for Refernce in Documents\n",
    "https://docs.w3cub.com/numpy~1.17/random/generated/numpy.random.generator.permutation\n",
    "\n",
    "Discovery Work:\n",
    "Plural Sight\n",
    "https://www.pluralsight.com/guides/almost-random-numbers\n",
    "\n",
    "SharpSightLab\n",
    "https://www.sharpsightlabs.com/blog/numpy-random-seed/\n",
    "\n",
    "NBViewer\n",
    "https://nbviewer.jupyter.org/github/waltherg/notebooks/blob/master/2013-12-03-Crank_Nicolson.ipynb\n",
    "\n",
    "NBViewer\n",
    "https://nbviewer.jupyter.org/github/phelps-sg/python-bigdata/blob/master/src/main/ipynb/numerical-slides.ipynb\n",
    "\n",
    "MatPlotLib Docs\n",
    "https://matplotlib.org/3.1.1/api/_as_gen/matplotlib.pyplot.hist.html\n",
    "\n",
    "MLXtensd\n",
    "http://rasbt.github.io/mlxtend/user_guide/preprocessing/shuffle_arrays_unison/\n"
   ]
  },
  {
   "cell_type": "code",
   "execution_count": null,
   "metadata": {},
   "outputs": [],
   "source": []
  }
 ],
 "metadata": {
  "kernelspec": {
   "display_name": "Python 3",
   "language": "python",
   "name": "python3"
  },
  "language_info": {
   "codemirror_mode": {
    "name": "ipython",
    "version": 3
   },
   "file_extension": ".py",
   "mimetype": "text/x-python",
   "name": "python",
   "nbconvert_exporter": "python",
   "pygments_lexer": "ipython3",
   "version": "3.8.5"
  }
 },
 "nbformat": 4,
 "nbformat_minor": 4
}
